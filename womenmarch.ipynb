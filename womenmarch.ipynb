{
 "cells": [
  {
   "cell_type": "markdown",
   "metadata": {
    "collapsed": false
   },
   "source": [
    "### Analysis of Women's March Tweets data"
   ]
  },
  {
   "cell_type": "markdown",
   "metadata": {},
   "source": [
    "The Women's March was a worldwide protest on January 21, 2017, to advocate legislation and policies regarding human rights and other issues, including women's rights, immigration reform, healthcare reform, reproductive rights, the natural environment, LGBTQ rights, racial equality, freedom of religion and workers' rights. The tweets of this protest are analysed in this project."
   ]
  },
  {
   "cell_type": "code",
   "execution_count": 1,
   "metadata": {
    "collapsed": true
   },
   "outputs": [],
   "source": [
    "import pandas as pd\n",
    "import numpy as np\n",
    "import re \n",
    "import string"
   ]
  },
  {
   "cell_type": "code",
   "execution_count": 2,
   "metadata": {
    "collapsed": true
   },
   "outputs": [],
   "source": [
    "Filename ='/Users/sivaut/Documents/ramawork/Womensmarch/womensmarchtweets.csv'\n",
    "\n",
    "tweets_df = pd.read_csv(Filename)\n"
   ]
  },
  {
   "cell_type": "code",
   "execution_count": 3,
   "metadata": {
    "collapsed": false
   },
   "outputs": [
    {
     "name": "stdout",
     "output_type": "stream",
     "text": [
      "<class 'pandas.core.frame.DataFrame'>\n",
      "RangeIndex: 3100 entries, 0 to 3099\n",
      "Data columns (total 5 columns):\n",
      "id            3100 non-null float64\n",
      "text          3100 non-null object\n",
      "source        3100 non-null object\n",
      "created_at    3100 non-null object\n",
      "place         308 non-null object\n",
      "dtypes: float64(1), object(4)\n",
      "memory usage: 121.2+ KB\n"
     ]
    }
   ],
   "source": [
    "tweets_df.info()"
   ]
  },
  {
   "cell_type": "markdown",
   "metadata": {},
   "source": [
    "\n",
    "The Women's March tweets data has 3100 entries with 5 columns. There are no missing values in 4 columns whereas the column named \"place\" has 308 known values(or 2792 missing values). \n"
   ]
  },
  {
   "cell_type": "code",
   "execution_count": 4,
   "metadata": {
    "collapsed": false
   },
   "outputs": [
    {
     "data": {
      "text/html": [
       "<div>\n",
       "<table border=\"1\" class=\"dataframe\">\n",
       "  <thead>\n",
       "    <tr style=\"text-align: right;\">\n",
       "      <th></th>\n",
       "      <th>id</th>\n",
       "      <th>text</th>\n",
       "      <th>source</th>\n",
       "      <th>created_at</th>\n",
       "      <th>place</th>\n",
       "    </tr>\n",
       "  </thead>\n",
       "  <tbody>\n",
       "    <tr>\n",
       "      <th>0</th>\n",
       "      <td>8.230000e+17</td>\n",
       "      <td>#WomensMarch Can someone send me a pussy-hat ?...</td>\n",
       "      <td>Twitter for iPhone</td>\n",
       "      <td>1/21/17 23:59</td>\n",
       "      <td>NaN</td>\n",
       "    </tr>\n",
       "    <tr>\n",
       "      <th>1</th>\n",
       "      <td>8.230000e+17</td>\n",
       "      <td>_ôëŸo melhor protesto da histí_ria que voce ad...</td>\n",
       "      <td>Twitter for iPhone</td>\n",
       "      <td>1/21/17 23:59</td>\n",
       "      <td>NaN</td>\n",
       "    </tr>\n",
       "    <tr>\n",
       "      <th>2</th>\n",
       "      <td>8.230000e+17</td>\n",
       "      <td>I thank God that we have each other! #WomensMa...</td>\n",
       "      <td>Twitter for iPhone</td>\n",
       "      <td>1/21/17 23:59</td>\n",
       "      <td>NaN</td>\n",
       "    </tr>\n",
       "    <tr>\n",
       "      <th>3</th>\n",
       "      <td>8.230000e+17</td>\n",
       "      <td>#WomensMarch https://t.co/otODcBgLUO</td>\n",
       "      <td>Twitter for iPhone</td>\n",
       "      <td>1/21/17 23:59</td>\n",
       "      <td>NaN</td>\n",
       "    </tr>\n",
       "    <tr>\n",
       "      <th>4</th>\n",
       "      <td>8.230000e+17</td>\n",
       "      <td>#WomensMarch #imwithher https://t.co/wDspd2eN3p</td>\n",
       "      <td>Twitter for Android</td>\n",
       "      <td>1/21/17 23:59</td>\n",
       "      <td>NaN</td>\n",
       "    </tr>\n",
       "  </tbody>\n",
       "</table>\n",
       "</div>"
      ],
      "text/plain": [
       "             id                                               text  \\\n",
       "0  8.230000e+17  #WomensMarch Can someone send me a pussy-hat ?...   \n",
       "1  8.230000e+17  _ôëŸo melhor protesto da histí_ria que voce ad...   \n",
       "2  8.230000e+17  I thank God that we have each other! #WomensMa...   \n",
       "3  8.230000e+17               #WomensMarch https://t.co/otODcBgLUO   \n",
       "4  8.230000e+17    #WomensMarch #imwithher https://t.co/wDspd2eN3p   \n",
       "\n",
       "                source     created_at place  \n",
       "0   Twitter for iPhone  1/21/17 23:59   NaN  \n",
       "1   Twitter for iPhone  1/21/17 23:59   NaN  \n",
       "2   Twitter for iPhone  1/21/17 23:59   NaN  \n",
       "3   Twitter for iPhone  1/21/17 23:59   NaN  \n",
       "4  Twitter for Android  1/21/17 23:59   NaN  "
      ]
     },
     "execution_count": 4,
     "metadata": {},
     "output_type": "execute_result"
    }
   ],
   "source": [
    "tweets_df.head()"
   ]
  },
  {
   "cell_type": "markdown",
   "metadata": {},
   "source": [
    "\n",
    "The first five rows of the dataframe are shown. The column \"place\" has missing values for all the 5 rows. "
   ]
  },
  {
   "cell_type": "code",
   "execution_count": 5,
   "metadata": {
    "collapsed": false
   },
   "outputs": [
    {
     "data": {
      "text/html": [
       "<div>\n",
       "<table border=\"1\" class=\"dataframe\">\n",
       "  <thead>\n",
       "    <tr style=\"text-align: right;\">\n",
       "      <th></th>\n",
       "      <th>id</th>\n",
       "      <th>text</th>\n",
       "      <th>source</th>\n",
       "      <th>created_at</th>\n",
       "      <th>place</th>\n",
       "    </tr>\n",
       "  </thead>\n",
       "  <tbody>\n",
       "    <tr>\n",
       "      <th>7</th>\n",
       "      <td>8.230000e+17</td>\n",
       "      <td>Reppin' for all the badass babes out there in ...</td>\n",
       "      <td>Instagram</td>\n",
       "      <td>1/21/17 23:59</td>\n",
       "      <td>Seattle, WA</td>\n",
       "    </tr>\n",
       "    <tr>\n",
       "      <th>10</th>\n",
       "      <td>8.230000e+17</td>\n",
       "      <td>äÍš #cepostaperte\\r\\näÍŠ #MilanNapoli\\r\\näÍ_ #...</td>\n",
       "      <td>Tendenze Italia</td>\n",
       "      <td>1/21/17 23:59</td>\n",
       "      <td>Rome, Lazio</td>\n",
       "    </tr>\n",
       "    <tr>\n",
       "      <th>17</th>\n",
       "      <td>8.230000e+17</td>\n",
       "      <td>äÍš #WomensMarch\\r\\näÍŠ Juan Pablo Montoya\\r\\n...</td>\n",
       "      <td>Es Tendencia en Colombia</td>\n",
       "      <td>1/21/17 23:59</td>\n",
       "      <td>Bogot\\xe1, D.C., Colombia</td>\n",
       "    </tr>\n",
       "    <tr>\n",
       "      <th>19</th>\n",
       "      <td>8.230000e+17</td>\n",
       "      <td>Have no idea what to expect but the #WomensMar...</td>\n",
       "      <td>Twitter for iPhone</td>\n",
       "      <td>1/21/17 23:59</td>\n",
       "      <td>Queens, NY</td>\n",
       "    </tr>\n",
       "    <tr>\n",
       "      <th>27</th>\n",
       "      <td>8.230000e+17</td>\n",
       "      <td>äÍš #WomensMarch\\r\\näÍŠ VICICONTE SOS í_NICA E...</td>\n",
       "      <td>Es Tendencia en Argentina</td>\n",
       "      <td>1/21/17 23:59</td>\n",
       "      <td>Ciudad Aut\\xf3noma de Buenos Aires, Argentina</td>\n",
       "    </tr>\n",
       "  </tbody>\n",
       "</table>\n",
       "</div>"
      ],
      "text/plain": [
       "              id                                               text  \\\n",
       "7   8.230000e+17  Reppin' for all the badass babes out there in ...   \n",
       "10  8.230000e+17  äÍš #cepostaperte\\r\\näÍŠ #MilanNapoli\\r\\näÍ_ #...   \n",
       "17  8.230000e+17  äÍš #WomensMarch\\r\\näÍŠ Juan Pablo Montoya\\r\\n...   \n",
       "19  8.230000e+17  Have no idea what to expect but the #WomensMar...   \n",
       "27  8.230000e+17  äÍš #WomensMarch\\r\\näÍŠ VICICONTE SOS í_NICA E...   \n",
       "\n",
       "                       source     created_at  \\\n",
       "7                   Instagram  1/21/17 23:59   \n",
       "10            Tendenze Italia  1/21/17 23:59   \n",
       "17   Es Tendencia en Colombia  1/21/17 23:59   \n",
       "19         Twitter for iPhone  1/21/17 23:59   \n",
       "27  Es Tendencia en Argentina  1/21/17 23:59   \n",
       "\n",
       "                                            place  \n",
       "7                                     Seattle, WA  \n",
       "10                                    Rome, Lazio  \n",
       "17                      Bogot\\xe1, D.C., Colombia  \n",
       "19                                     Queens, NY  \n",
       "27  Ciudad Aut\\xf3noma de Buenos Aires, Argentina  "
      ]
     },
     "execution_count": 5,
     "metadata": {},
     "output_type": "execute_result"
    }
   ],
   "source": [
    "tweets_df.dropna().head()"
   ]
  },
  {
   "cell_type": "markdown",
   "metadata": {},
   "source": [
    "The first five rows having non missing values are shown."
   ]
  },
  {
   "cell_type": "markdown",
   "metadata": {},
   "source": [
    "### Analysis by id"
   ]
  },
  {
   "cell_type": "code",
   "execution_count": 6,
   "metadata": {
    "collapsed": false
   },
   "outputs": [
    {
     "data": {
      "text/html": [
       "<div>\n",
       "<table border=\"1\" class=\"dataframe\">\n",
       "  <thead>\n",
       "    <tr style=\"text-align: right;\">\n",
       "      <th></th>\n",
       "      <th>id</th>\n",
       "      <th>count</th>\n",
       "    </tr>\n",
       "  </thead>\n",
       "  <tbody>\n",
       "    <tr>\n",
       "      <th>0</th>\n",
       "      <td>8.230000e+17</td>\n",
       "      <td>3100</td>\n",
       "    </tr>\n",
       "  </tbody>\n",
       "</table>\n",
       "</div>"
      ],
      "text/plain": [
       "             id  count\n",
       "0  8.230000e+17   3100"
      ]
     },
     "execution_count": 6,
     "metadata": {},
     "output_type": "execute_result"
    }
   ],
   "source": [
    "tweets_df.groupby('id').size().reset_index(name='count').sort_values(['count'], ascending=False)"
   ]
  },
  {
   "cell_type": "markdown",
   "metadata": {},
   "source": [
    "All the entries have the same id. The ids aren't unique. Also, the id looks unusual."
   ]
  },
  {
   "cell_type": "markdown",
   "metadata": {},
   "source": [
    "### Analysis by source"
   ]
  },
  {
   "cell_type": "code",
   "execution_count": 7,
   "metadata": {
    "collapsed": false
   },
   "outputs": [
    {
     "data": {
      "text/html": [
       "<div>\n",
       "<table border=\"1\" class=\"dataframe\">\n",
       "  <thead>\n",
       "    <tr style=\"text-align: right;\">\n",
       "      <th></th>\n",
       "      <th>source</th>\n",
       "      <th>count</th>\n",
       "    </tr>\n",
       "  </thead>\n",
       "  <tbody>\n",
       "    <tr>\n",
       "      <th>44</th>\n",
       "      <td>Twitter for iPhone</td>\n",
       "      <td>1521</td>\n",
       "    </tr>\n",
       "    <tr>\n",
       "      <th>38</th>\n",
       "      <td>Twitter for Android</td>\n",
       "      <td>596</td>\n",
       "    </tr>\n",
       "    <tr>\n",
       "      <th>37</th>\n",
       "      <td>Twitter Web Client</td>\n",
       "      <td>460</td>\n",
       "    </tr>\n",
       "    <tr>\n",
       "      <th>15</th>\n",
       "      <td>Instagram</td>\n",
       "      <td>182</td>\n",
       "    </tr>\n",
       "    <tr>\n",
       "      <th>43</th>\n",
       "      <td>Twitter for iPad</td>\n",
       "      <td>79</td>\n",
       "    </tr>\n",
       "    <tr>\n",
       "      <th>19</th>\n",
       "      <td>Mobile Web (M5)</td>\n",
       "      <td>38</td>\n",
       "    </tr>\n",
       "    <tr>\n",
       "      <th>10</th>\n",
       "      <td>Facebook</td>\n",
       "      <td>28</td>\n",
       "    </tr>\n",
       "    <tr>\n",
       "      <th>32</th>\n",
       "      <td>TweetDeck</td>\n",
       "      <td>28</td>\n",
       "    </tr>\n",
       "    <tr>\n",
       "      <th>14</th>\n",
       "      <td>IFTTT</td>\n",
       "      <td>27</td>\n",
       "    </tr>\n",
       "    <tr>\n",
       "      <th>23</th>\n",
       "      <td>Put your button on any page!</td>\n",
       "      <td>26</td>\n",
       "    </tr>\n",
       "    <tr>\n",
       "      <th>20</th>\n",
       "      <td>Paper.li</td>\n",
       "      <td>17</td>\n",
       "    </tr>\n",
       "    <tr>\n",
       "      <th>34</th>\n",
       "      <td>Tweetbot for i‘ôS</td>\n",
       "      <td>12</td>\n",
       "    </tr>\n",
       "    <tr>\n",
       "      <th>42</th>\n",
       "      <td>Twitter for Windows Phone</td>\n",
       "      <td>10</td>\n",
       "    </tr>\n",
       "    <tr>\n",
       "      <th>48</th>\n",
       "      <td>config001 via...</td>\n",
       "      <td>10</td>\n",
       "    </tr>\n",
       "    <tr>\n",
       "      <th>13</th>\n",
       "      <td>Hootsuite</td>\n",
       "      <td>6</td>\n",
       "    </tr>\n",
       "    <tr>\n",
       "      <th>3</th>\n",
       "      <td>Echofon</td>\n",
       "      <td>6</td>\n",
       "    </tr>\n",
       "    <tr>\n",
       "      <th>31</th>\n",
       "      <td>TweetCaster for Android</td>\n",
       "      <td>6</td>\n",
       "    </tr>\n",
       "    <tr>\n",
       "      <th>41</th>\n",
       "      <td>Twitter for Windows</td>\n",
       "      <td>4</td>\n",
       "    </tr>\n",
       "    <tr>\n",
       "      <th>22</th>\n",
       "      <td>PlumeŒæforŒæAndroid</td>\n",
       "      <td>4</td>\n",
       "    </tr>\n",
       "    <tr>\n",
       "      <th>24</th>\n",
       "      <td>SocialFlow</td>\n",
       "      <td>4</td>\n",
       "    </tr>\n",
       "    <tr>\n",
       "      <th>18</th>\n",
       "      <td>Mobile Web (M2)</td>\n",
       "      <td>3</td>\n",
       "    </tr>\n",
       "    <tr>\n",
       "      <th>0</th>\n",
       "      <td>Buffer</td>\n",
       "      <td>2</td>\n",
       "    </tr>\n",
       "    <tr>\n",
       "      <th>21</th>\n",
       "      <td>Periscope</td>\n",
       "      <td>2</td>\n",
       "    </tr>\n",
       "    <tr>\n",
       "      <th>39</th>\n",
       "      <td>Twitter for BlackBerry</td>\n",
       "      <td>2</td>\n",
       "    </tr>\n",
       "    <tr>\n",
       "      <th>45</th>\n",
       "      <td>UberSocial Professional</td>\n",
       "      <td>1</td>\n",
       "    </tr>\n",
       "    <tr>\n",
       "      <th>46</th>\n",
       "      <td>Untappd</td>\n",
       "      <td>1</td>\n",
       "    </tr>\n",
       "    <tr>\n",
       "      <th>47</th>\n",
       "      <td>WordPress.com</td>\n",
       "      <td>1</td>\n",
       "    </tr>\n",
       "    <tr>\n",
       "      <th>36</th>\n",
       "      <td>Twitter Dashboard for iPhone</td>\n",
       "      <td>1</td>\n",
       "    </tr>\n",
       "    <tr>\n",
       "      <th>35</th>\n",
       "      <td>Tweetlogix</td>\n",
       "      <td>1</td>\n",
       "    </tr>\n",
       "    <tr>\n",
       "      <th>49</th>\n",
       "      <td>iOS</td>\n",
       "      <td>1</td>\n",
       "    </tr>\n",
       "    <tr>\n",
       "      <th>33</th>\n",
       "      <td>Tweetbot for Mac</td>\n",
       "      <td>1</td>\n",
       "    </tr>\n",
       "    <tr>\n",
       "      <th>40</th>\n",
       "      <td>Twitter for BlackBerryŒ¬</td>\n",
       "      <td>1</td>\n",
       "    </tr>\n",
       "    <tr>\n",
       "      <th>25</th>\n",
       "      <td>Talon (Plus)</td>\n",
       "      <td>1</td>\n",
       "    </tr>\n",
       "    <tr>\n",
       "      <th>30</th>\n",
       "      <td>Trends from India</td>\n",
       "      <td>1</td>\n",
       "    </tr>\n",
       "    <tr>\n",
       "      <th>29</th>\n",
       "      <td>Trendinalia Mí©xico</td>\n",
       "      <td>1</td>\n",
       "    </tr>\n",
       "    <tr>\n",
       "      <th>2</th>\n",
       "      <td>Deutschland in Trends</td>\n",
       "      <td>1</td>\n",
       "    </tr>\n",
       "    <tr>\n",
       "      <th>4</th>\n",
       "      <td>Es Tendencia en Argentina</td>\n",
       "      <td>1</td>\n",
       "    </tr>\n",
       "    <tr>\n",
       "      <th>5</th>\n",
       "      <td>Es Tendencia en Chile</td>\n",
       "      <td>1</td>\n",
       "    </tr>\n",
       "    <tr>\n",
       "      <th>6</th>\n",
       "      <td>Es Tendencia en Colombia</td>\n",
       "      <td>1</td>\n",
       "    </tr>\n",
       "    <tr>\n",
       "      <th>7</th>\n",
       "      <td>Es Tendencia en Dominicana</td>\n",
       "      <td>1</td>\n",
       "    </tr>\n",
       "    <tr>\n",
       "      <th>8</th>\n",
       "      <td>Es Tendencia en Espaí±a</td>\n",
       "      <td>1</td>\n",
       "    </tr>\n",
       "    <tr>\n",
       "      <th>9</th>\n",
       "      <td>Es Tendencia en Venezuela</td>\n",
       "      <td>1</td>\n",
       "    </tr>\n",
       "    <tr>\n",
       "      <th>11</th>\n",
       "      <td>Fenix for Android</td>\n",
       "      <td>1</td>\n",
       "    </tr>\n",
       "    <tr>\n",
       "      <th>12</th>\n",
       "      <td>Google</td>\n",
       "      <td>1</td>\n",
       "    </tr>\n",
       "    <tr>\n",
       "      <th>16</th>\n",
       "      <td>Medium</td>\n",
       "      <td>1</td>\n",
       "    </tr>\n",
       "    <tr>\n",
       "      <th>17</th>\n",
       "      <td>Meet Edgar</td>\n",
       "      <td>1</td>\n",
       "    </tr>\n",
       "    <tr>\n",
       "      <th>1</th>\n",
       "      <td>Dadaist robot</td>\n",
       "      <td>1</td>\n",
       "    </tr>\n",
       "    <tr>\n",
       "      <th>26</th>\n",
       "      <td>Tendenze Italia</td>\n",
       "      <td>1</td>\n",
       "    </tr>\n",
       "    <tr>\n",
       "      <th>27</th>\n",
       "      <td>TendíÈncias Brasil</td>\n",
       "      <td>1</td>\n",
       "    </tr>\n",
       "    <tr>\n",
       "      <th>28</th>\n",
       "      <td>Test This Again</td>\n",
       "      <td>1</td>\n",
       "    </tr>\n",
       "    <tr>\n",
       "      <th>50</th>\n",
       "      <td>twicca</td>\n",
       "      <td>1</td>\n",
       "    </tr>\n",
       "  </tbody>\n",
       "</table>\n",
       "</div>"
      ],
      "text/plain": [
       "                           source  count\n",
       "44             Twitter for iPhone   1521\n",
       "38            Twitter for Android    596\n",
       "37             Twitter Web Client    460\n",
       "15                      Instagram    182\n",
       "43               Twitter for iPad     79\n",
       "19                Mobile Web (M5)     38\n",
       "10                       Facebook     28\n",
       "32                      TweetDeck     28\n",
       "14                          IFTTT     27\n",
       "23  Put your button on any page!      26\n",
       "20                       Paper.li     17\n",
       "34              Tweetbot for i‘ôS     12\n",
       "42      Twitter for Windows Phone     10\n",
       "48               config001 via...     10\n",
       "13                      Hootsuite      6\n",
       "3                         Echofon      6\n",
       "31        TweetCaster for Android      6\n",
       "41            Twitter for Windows      4\n",
       "22            PlumeŒæforŒæAndroid      4\n",
       "24                     SocialFlow      4\n",
       "18                Mobile Web (M2)      3\n",
       "0                          Buffer      2\n",
       "21                      Periscope      2\n",
       "39         Twitter for BlackBerry      2\n",
       "45        UberSocial Professional      1\n",
       "46                        Untappd      1\n",
       "47                  WordPress.com      1\n",
       "36   Twitter Dashboard for iPhone      1\n",
       "35                     Tweetlogix      1\n",
       "49                            iOS      1\n",
       "33               Tweetbot for Mac      1\n",
       "40       Twitter for BlackBerryŒ¬      1\n",
       "25                   Talon (Plus)      1\n",
       "30              Trends from India      1\n",
       "29            Trendinalia Mí©xico      1\n",
       "2           Deutschland in Trends      1\n",
       "4       Es Tendencia en Argentina      1\n",
       "5           Es Tendencia en Chile      1\n",
       "6        Es Tendencia en Colombia      1\n",
       "7      Es Tendencia en Dominicana      1\n",
       "8         Es Tendencia en Espaí±a      1\n",
       "9       Es Tendencia en Venezuela      1\n",
       "11              Fenix for Android      1\n",
       "12                         Google      1\n",
       "16                         Medium      1\n",
       "17                     Meet Edgar      1\n",
       "1                   Dadaist robot      1\n",
       "26                Tendenze Italia      1\n",
       "27             TendíÈncias Brasil      1\n",
       "28                Test This Again      1\n",
       "50                         twicca      1"
      ]
     },
     "execution_count": 7,
     "metadata": {},
     "output_type": "execute_result"
    }
   ],
   "source": [
    "tweets_df.groupby('source').size().reset_index(name='count').sort_values(['count'], ascending=False)"
   ]
  },
  {
   "cell_type": "markdown",
   "metadata": {},
   "source": [
    "51 different sources were used to post the tweets. Most people used \"Twitter for iphone\" as their source, followed by \"Twitter for Android\" and \"Twitter webclient\". \"Test This Again\" and \"Put your button on any page\" are also found as sources in the data. "
   ]
  },
  {
   "cell_type": "markdown",
   "metadata": {},
   "source": [
    "### Analysis by created_at"
   ]
  },
  {
   "cell_type": "code",
   "execution_count": 8,
   "metadata": {
    "collapsed": false
   },
   "outputs": [
    {
     "data": {
      "text/html": [
       "<div>\n",
       "<table border=\"1\" class=\"dataframe\">\n",
       "  <thead>\n",
       "    <tr style=\"text-align: right;\">\n",
       "      <th></th>\n",
       "      <th>created_at</th>\n",
       "      <th>count</th>\n",
       "    </tr>\n",
       "  </thead>\n",
       "  <tbody>\n",
       "    <tr>\n",
       "      <th>3</th>\n",
       "      <td>1/21/17 23:59</td>\n",
       "      <td>906</td>\n",
       "    </tr>\n",
       "    <tr>\n",
       "      <th>1</th>\n",
       "      <td>1/21/17 23:57</td>\n",
       "      <td>900</td>\n",
       "    </tr>\n",
       "    <tr>\n",
       "      <th>2</th>\n",
       "      <td>1/21/17 23:58</td>\n",
       "      <td>833</td>\n",
       "    </tr>\n",
       "    <tr>\n",
       "      <th>0</th>\n",
       "      <td>1/21/17 23:56</td>\n",
       "      <td>461</td>\n",
       "    </tr>\n",
       "  </tbody>\n",
       "</table>\n",
       "</div>"
      ],
      "text/plain": [
       "      created_at  count\n",
       "3  1/21/17 23:59    906\n",
       "1  1/21/17 23:57    900\n",
       "2  1/21/17 23:58    833\n",
       "0  1/21/17 23:56    461"
      ]
     },
     "execution_count": 8,
     "metadata": {},
     "output_type": "execute_result"
    }
   ],
   "source": [
    "tweets_df.groupby('created_at').size().reset_index(name='count').sort_values(['count'], ascending=False)"
   ]
  },
  {
   "cell_type": "code",
   "execution_count": 9,
   "metadata": {
    "collapsed": false
   },
   "outputs": [
    {
     "data": {
      "text/html": [
       "<div>\n",
       "<table border=\"1\" class=\"dataframe\">\n",
       "  <thead>\n",
       "    <tr style=\"text-align: right;\">\n",
       "      <th></th>\n",
       "      <th>id</th>\n",
       "      <th>text</th>\n",
       "      <th>source</th>\n",
       "      <th>created_at</th>\n",
       "      <th>place</th>\n",
       "    </tr>\n",
       "  </thead>\n",
       "  <tbody>\n",
       "    <tr>\n",
       "      <th>7</th>\n",
       "      <td>8.230000e+17</td>\n",
       "      <td>Reppin' for all the badass babes out there in ...</td>\n",
       "      <td>Instagram</td>\n",
       "      <td>1/21/17 23:59</td>\n",
       "      <td>Seattle, WA</td>\n",
       "    </tr>\n",
       "    <tr>\n",
       "      <th>10</th>\n",
       "      <td>8.230000e+17</td>\n",
       "      <td>äÍš #cepostaperte\\r\\näÍŠ #MilanNapoli\\r\\näÍ_ #...</td>\n",
       "      <td>Tendenze Italia</td>\n",
       "      <td>1/21/17 23:59</td>\n",
       "      <td>Rome, Lazio</td>\n",
       "    </tr>\n",
       "    <tr>\n",
       "      <th>17</th>\n",
       "      <td>8.230000e+17</td>\n",
       "      <td>äÍš #WomensMarch\\r\\näÍŠ Juan Pablo Montoya\\r\\n...</td>\n",
       "      <td>Es Tendencia en Colombia</td>\n",
       "      <td>1/21/17 23:59</td>\n",
       "      <td>Bogot\\xe1, D.C., Colombia</td>\n",
       "    </tr>\n",
       "    <tr>\n",
       "      <th>19</th>\n",
       "      <td>8.230000e+17</td>\n",
       "      <td>Have no idea what to expect but the #WomensMar...</td>\n",
       "      <td>Twitter for iPhone</td>\n",
       "      <td>1/21/17 23:59</td>\n",
       "      <td>Queens, NY</td>\n",
       "    </tr>\n",
       "    <tr>\n",
       "      <th>27</th>\n",
       "      <td>8.230000e+17</td>\n",
       "      <td>äÍš #WomensMarch\\r\\näÍŠ VICICONTE SOS í_NICA E...</td>\n",
       "      <td>Es Tendencia en Argentina</td>\n",
       "      <td>1/21/17 23:59</td>\n",
       "      <td>Ciudad Aut\\xf3noma de Buenos Aires, Argentina</td>\n",
       "    </tr>\n",
       "  </tbody>\n",
       "</table>\n",
       "</div>"
      ],
      "text/plain": [
       "              id                                               text  \\\n",
       "7   8.230000e+17  Reppin' for all the badass babes out there in ...   \n",
       "10  8.230000e+17  äÍš #cepostaperte\\r\\näÍŠ #MilanNapoli\\r\\näÍ_ #...   \n",
       "17  8.230000e+17  äÍš #WomensMarch\\r\\näÍŠ Juan Pablo Montoya\\r\\n...   \n",
       "19  8.230000e+17  Have no idea what to expect but the #WomensMar...   \n",
       "27  8.230000e+17  äÍš #WomensMarch\\r\\näÍŠ VICICONTE SOS í_NICA E...   \n",
       "\n",
       "                       source     created_at  \\\n",
       "7                   Instagram  1/21/17 23:59   \n",
       "10            Tendenze Italia  1/21/17 23:59   \n",
       "17   Es Tendencia en Colombia  1/21/17 23:59   \n",
       "19         Twitter for iPhone  1/21/17 23:59   \n",
       "27  Es Tendencia en Argentina  1/21/17 23:59   \n",
       "\n",
       "                                            place  \n",
       "7                                     Seattle, WA  \n",
       "10                                    Rome, Lazio  \n",
       "17                      Bogot\\xe1, D.C., Colombia  \n",
       "19                                     Queens, NY  \n",
       "27  Ciudad Aut\\xf3noma de Buenos Aires, Argentina  "
      ]
     },
     "execution_count": 9,
     "metadata": {},
     "output_type": "execute_result"
    }
   ],
   "source": [
    "tweets_df.dropna().head()"
   ]
  },
  {
   "cell_type": "markdown",
   "metadata": {},
   "source": [
    "The tweets were created in different countries having different timezones and in different languages. Surprisingly, all the tweets were created between the time 23:56 and 23:59 on January 21, 2017. Most likely, the tweets data were taken for the day January 21, 2017 hence it stops at 23:59. This tweets data might be a slice of a big data. "
   ]
  },
  {
   "cell_type": "markdown",
   "metadata": {},
   "source": [
    "### Analysis by place"
   ]
  },
  {
   "cell_type": "code",
   "execution_count": 10,
   "metadata": {
    "collapsed": false
   },
   "outputs": [],
   "source": [
    "File ='/Users/sivaut/Documents/ramawork/Womensmarch/state.csv'\n",
    "\n",
    "state_df = pd.read_csv(File)"
   ]
  },
  {
   "cell_type": "code",
   "execution_count": 11,
   "metadata": {
    "collapsed": false
   },
   "outputs": [
    {
     "name": "stdout",
     "output_type": "stream",
     "text": [
      "<class 'pandas.core.frame.DataFrame'>\n",
      "RangeIndex: 51 entries, 0 to 50\n",
      "Data columns (total 2 columns):\n",
      "State           51 non-null object\n",
      "Abbreviation    51 non-null object\n",
      "dtypes: object(2)\n",
      "memory usage: 896.0+ bytes\n"
     ]
    }
   ],
   "source": [
    "state_df.info()"
   ]
  },
  {
   "cell_type": "code",
   "execution_count": 12,
   "metadata": {
    "collapsed": false
   },
   "outputs": [
    {
     "data": {
      "text/html": [
       "<div>\n",
       "<table border=\"1\" class=\"dataframe\">\n",
       "  <thead>\n",
       "    <tr style=\"text-align: right;\">\n",
       "      <th></th>\n",
       "      <th>State</th>\n",
       "      <th>Abbreviation</th>\n",
       "    </tr>\n",
       "  </thead>\n",
       "  <tbody>\n",
       "    <tr>\n",
       "      <th>0</th>\n",
       "      <td>Alabama</td>\n",
       "      <td>AL</td>\n",
       "    </tr>\n",
       "    <tr>\n",
       "      <th>1</th>\n",
       "      <td>Alaska</td>\n",
       "      <td>AK</td>\n",
       "    </tr>\n",
       "    <tr>\n",
       "      <th>2</th>\n",
       "      <td>Arizona</td>\n",
       "      <td>AZ</td>\n",
       "    </tr>\n",
       "    <tr>\n",
       "      <th>3</th>\n",
       "      <td>Arkansas</td>\n",
       "      <td>AR</td>\n",
       "    </tr>\n",
       "    <tr>\n",
       "      <th>4</th>\n",
       "      <td>California</td>\n",
       "      <td>CA</td>\n",
       "    </tr>\n",
       "  </tbody>\n",
       "</table>\n",
       "</div>"
      ],
      "text/plain": [
       "        State Abbreviation\n",
       "0     Alabama           AL\n",
       "1      Alaska           AK\n",
       "2     Arizona           AZ\n",
       "3    Arkansas           AR\n",
       "4  California           CA"
      ]
     },
     "execution_count": 12,
     "metadata": {},
     "output_type": "execute_result"
    }
   ],
   "source": [
    "state_df.head()"
   ]
  },
  {
   "cell_type": "markdown",
   "metadata": {},
   "source": [
    "The Women's March happened in various countries. The tweets include both abbreviated and full name of the US states. The state and its abbreviation are read from the csv file and stored in the state_df dataframe, to process the data.\n",
    "\n",
    "The column named \"place\" holds the location from where the tweets are published. It has 308 known values(or 2792 missing values). The analysis was carried out with the known values.It was split into \"city\" and \"State\" to facilitate the analysis. "
   ]
  },
  {
   "cell_type": "code",
   "execution_count": 13,
   "metadata": {
    "collapsed": false
   },
   "outputs": [],
   "source": [
    "mydict = dict(zip(state_df.State, state_df.Abbreviation))\n"
   ]
  },
  {
   "cell_type": "code",
   "execution_count": 14,
   "metadata": {
    "collapsed": false
   },
   "outputs": [],
   "source": [
    "list_state = state_df.values.T.tolist()"
   ]
  },
  {
   "cell_type": "code",
   "execution_count": 15,
   "metadata": {
    "collapsed": false
   },
   "outputs": [],
   "source": [
    "\n",
    "tweets_df['city'], tweets_df['State'] = tweets_df['place'].str.split(',', 1).str"
   ]
  },
  {
   "cell_type": "code",
   "execution_count": 16,
   "metadata": {
    "collapsed": false
   },
   "outputs": [
    {
     "data": {
      "text/html": [
       "<div>\n",
       "<table border=\"1\" class=\"dataframe\">\n",
       "  <thead>\n",
       "    <tr style=\"text-align: right;\">\n",
       "      <th></th>\n",
       "      <th>id</th>\n",
       "      <th>text</th>\n",
       "      <th>source</th>\n",
       "      <th>created_at</th>\n",
       "      <th>place</th>\n",
       "      <th>city</th>\n",
       "      <th>State</th>\n",
       "    </tr>\n",
       "  </thead>\n",
       "  <tbody>\n",
       "    <tr>\n",
       "      <th>3049</th>\n",
       "      <td>8.230000e+17</td>\n",
       "      <td>#math + #solidarity = #womensmarch https://t.c...</td>\n",
       "      <td>Twitter for Android</td>\n",
       "      <td>1/21/17 23:56</td>\n",
       "      <td>Manhattan, NY</td>\n",
       "      <td>Manhattan</td>\n",
       "      <td>NY</td>\n",
       "    </tr>\n",
       "    <tr>\n",
       "      <th>3060</th>\n",
       "      <td>8.230000e+17</td>\n",
       "      <td>I haven't seen the city this energized about s...</td>\n",
       "      <td>Twitter for iPhone</td>\n",
       "      <td>1/21/17 23:56</td>\n",
       "      <td>San Francisco, CA</td>\n",
       "      <td>San Francisco</td>\n",
       "      <td>CA</td>\n",
       "    </tr>\n",
       "    <tr>\n",
       "      <th>3077</th>\n",
       "      <td>8.230000e+17</td>\n",
       "      <td>#nofilter #missingobama #nevertrump #armyoflov...</td>\n",
       "      <td>Instagram</td>\n",
       "      <td>1/21/17 23:56</td>\n",
       "      <td>East Potomac Park, Washington</td>\n",
       "      <td>East Potomac Park</td>\n",
       "      <td>Washington</td>\n",
       "    </tr>\n",
       "    <tr>\n",
       "      <th>3089</th>\n",
       "      <td>8.230000e+17</td>\n",
       "      <td>@BitterSaltiness I actually went to the #Women...</td>\n",
       "      <td>Twitter for iPhone</td>\n",
       "      <td>1/21/17 23:56</td>\n",
       "      <td>Wisconsin, USA</td>\n",
       "      <td>Wisconsin</td>\n",
       "      <td>USA</td>\n",
       "    </tr>\n",
       "    <tr>\n",
       "      <th>3091</th>\n",
       "      <td>8.230000e+17</td>\n",
       "      <td>Women are such beautiful and wonderful creatur...</td>\n",
       "      <td>Twitter for iPhone</td>\n",
       "      <td>1/21/17 23:56</td>\n",
       "      <td>Kansas, USA</td>\n",
       "      <td>Kansas</td>\n",
       "      <td>USA</td>\n",
       "    </tr>\n",
       "  </tbody>\n",
       "</table>\n",
       "</div>"
      ],
      "text/plain": [
       "                id                                               text  \\\n",
       "3049  8.230000e+17  #math + #solidarity = #womensmarch https://t.c...   \n",
       "3060  8.230000e+17  I haven't seen the city this energized about s...   \n",
       "3077  8.230000e+17  #nofilter #missingobama #nevertrump #armyoflov...   \n",
       "3089  8.230000e+17  @BitterSaltiness I actually went to the #Women...   \n",
       "3091  8.230000e+17  Women are such beautiful and wonderful creatur...   \n",
       "\n",
       "                   source     created_at                          place  \\\n",
       "3049  Twitter for Android  1/21/17 23:56                  Manhattan, NY   \n",
       "3060   Twitter for iPhone  1/21/17 23:56              San Francisco, CA   \n",
       "3077            Instagram  1/21/17 23:56  East Potomac Park, Washington   \n",
       "3089   Twitter for iPhone  1/21/17 23:56                 Wisconsin, USA   \n",
       "3091   Twitter for iPhone  1/21/17 23:56                    Kansas, USA   \n",
       "\n",
       "                   city        State  \n",
       "3049          Manhattan           NY  \n",
       "3060      San Francisco           CA  \n",
       "3077  East Potomac Park   Washington  \n",
       "3089          Wisconsin          USA  \n",
       "3091             Kansas          USA  "
      ]
     },
     "execution_count": 16,
     "metadata": {},
     "output_type": "execute_result"
    }
   ],
   "source": [
    "tweets_df.dropna().tail()"
   ]
  },
  {
   "cell_type": "markdown",
   "metadata": {},
   "source": [
    "\n",
    "In the above output, the non missing values of the column named \"State\" is either a country name or an abbreviated/full names of an US state.\n"
   ]
  },
  {
   "cell_type": "code",
   "execution_count": 17,
   "metadata": {
    "collapsed": true
   },
   "outputs": [],
   "source": [
    "tweets_df['State']= tweets_df['State'].str.strip()"
   ]
  },
  {
   "cell_type": "code",
   "execution_count": 18,
   "metadata": {
    "collapsed": false
   },
   "outputs": [],
   "source": [
    "tweets_df['State'] = np.where(tweets_df['State']=='USA' ,tweets_df['city'], tweets_df['State'])"
   ]
  },
  {
   "cell_type": "code",
   "execution_count": 19,
   "metadata": {
    "collapsed": true
   },
   "outputs": [],
   "source": [
    "tweets_df['city'] = np.where(tweets_df['State'].isin(list_state[0]), tweets_df['State'], tweets_df['city'])"
   ]
  },
  {
   "cell_type": "code",
   "execution_count": 20,
   "metadata": {
    "collapsed": false
   },
   "outputs": [],
   "source": [
    "tweets_df['country'] = np.where(tweets_df['State'].isin(list_state[1]) , 'USA', tweets_df['State'])\n"
   ]
  },
  {
   "cell_type": "code",
   "execution_count": 21,
   "metadata": {
    "collapsed": false
   },
   "outputs": [],
   "source": [
    "tweets_df['country'] = np.where(tweets_df['State'].isin(list_state[0]), 'USA', tweets_df['country'])"
   ]
  },
  {
   "cell_type": "code",
   "execution_count": 22,
   "metadata": {
    "collapsed": false
   },
   "outputs": [],
   "source": [
    "tweets_df['Abbreviated'] = tweets_df['State']"
   ]
  },
  {
   "cell_type": "code",
   "execution_count": 23,
   "metadata": {
    "collapsed": false
   },
   "outputs": [],
   "source": [
    "tweets_df['State'] = np.where(tweets_df['State'].isin(list_state[0]), 'Abb' , tweets_df['State'])"
   ]
  },
  {
   "cell_type": "code",
   "execution_count": 24,
   "metadata": {
    "collapsed": true
   },
   "outputs": [],
   "source": [
    "tweets_df['State'] = np.where(tweets_df['State']=='USA' ,tweets_df['city'], tweets_df['State'])"
   ]
  },
  {
   "cell_type": "code",
   "execution_count": 25,
   "metadata": {
    "collapsed": false
   },
   "outputs": [],
   "source": [
    "tweets_df['Abbreviated'] = np.where(tweets_df['State']=='Abb' ,tweets_df['city'].map(mydict), 'NaN')\n"
   ]
  },
  {
   "cell_type": "code",
   "execution_count": 26,
   "metadata": {
    "collapsed": false
   },
   "outputs": [],
   "source": [
    "tweets_df['State'] = np.where(tweets_df['State']=='Abb' ,tweets_df['Abbreviated'], tweets_df['State'])"
   ]
  },
  {
   "cell_type": "code",
   "execution_count": 27,
   "metadata": {
    "collapsed": true
   },
   "outputs": [],
   "source": [
    "del tweets_df['Abbreviated']"
   ]
  },
  {
   "cell_type": "code",
   "execution_count": 28,
   "metadata": {
    "collapsed": false
   },
   "outputs": [
    {
     "data": {
      "text/html": [
       "<div>\n",
       "<table border=\"1\" class=\"dataframe\">\n",
       "  <thead>\n",
       "    <tr style=\"text-align: right;\">\n",
       "      <th></th>\n",
       "      <th>id</th>\n",
       "      <th>text</th>\n",
       "      <th>source</th>\n",
       "      <th>created_at</th>\n",
       "      <th>place</th>\n",
       "      <th>city</th>\n",
       "      <th>State</th>\n",
       "      <th>country</th>\n",
       "    </tr>\n",
       "  </thead>\n",
       "  <tbody>\n",
       "    <tr>\n",
       "      <th>7</th>\n",
       "      <td>8.230000e+17</td>\n",
       "      <td>Reppin' for all the badass babes out there in ...</td>\n",
       "      <td>Instagram</td>\n",
       "      <td>1/21/17 23:59</td>\n",
       "      <td>Seattle, WA</td>\n",
       "      <td>Seattle</td>\n",
       "      <td>WA</td>\n",
       "      <td>USA</td>\n",
       "    </tr>\n",
       "    <tr>\n",
       "      <th>10</th>\n",
       "      <td>8.230000e+17</td>\n",
       "      <td>äÍš #cepostaperte\\r\\näÍŠ #MilanNapoli\\r\\näÍ_ #...</td>\n",
       "      <td>Tendenze Italia</td>\n",
       "      <td>1/21/17 23:59</td>\n",
       "      <td>Rome, Lazio</td>\n",
       "      <td>Rome</td>\n",
       "      <td>Lazio</td>\n",
       "      <td>Lazio</td>\n",
       "    </tr>\n",
       "    <tr>\n",
       "      <th>17</th>\n",
       "      <td>8.230000e+17</td>\n",
       "      <td>äÍš #WomensMarch\\r\\näÍŠ Juan Pablo Montoya\\r\\n...</td>\n",
       "      <td>Es Tendencia en Colombia</td>\n",
       "      <td>1/21/17 23:59</td>\n",
       "      <td>Bogot\\xe1, D.C., Colombia</td>\n",
       "      <td>Bogot\\xe1</td>\n",
       "      <td>D.C., Colombia</td>\n",
       "      <td>D.C., Colombia</td>\n",
       "    </tr>\n",
       "    <tr>\n",
       "      <th>19</th>\n",
       "      <td>8.230000e+17</td>\n",
       "      <td>Have no idea what to expect but the #WomensMar...</td>\n",
       "      <td>Twitter for iPhone</td>\n",
       "      <td>1/21/17 23:59</td>\n",
       "      <td>Queens, NY</td>\n",
       "      <td>Queens</td>\n",
       "      <td>NY</td>\n",
       "      <td>USA</td>\n",
       "    </tr>\n",
       "    <tr>\n",
       "      <th>27</th>\n",
       "      <td>8.230000e+17</td>\n",
       "      <td>äÍš #WomensMarch\\r\\näÍŠ VICICONTE SOS í_NICA E...</td>\n",
       "      <td>Es Tendencia en Argentina</td>\n",
       "      <td>1/21/17 23:59</td>\n",
       "      <td>Ciudad Aut\\xf3noma de Buenos Aires, Argentina</td>\n",
       "      <td>Ciudad Aut\\xf3noma de Buenos Aires</td>\n",
       "      <td>Argentina</td>\n",
       "      <td>Argentina</td>\n",
       "    </tr>\n",
       "  </tbody>\n",
       "</table>\n",
       "</div>"
      ],
      "text/plain": [
       "              id                                               text  \\\n",
       "7   8.230000e+17  Reppin' for all the badass babes out there in ...   \n",
       "10  8.230000e+17  äÍš #cepostaperte\\r\\näÍŠ #MilanNapoli\\r\\näÍ_ #...   \n",
       "17  8.230000e+17  äÍš #WomensMarch\\r\\näÍŠ Juan Pablo Montoya\\r\\n...   \n",
       "19  8.230000e+17  Have no idea what to expect but the #WomensMar...   \n",
       "27  8.230000e+17  äÍš #WomensMarch\\r\\näÍŠ VICICONTE SOS í_NICA E...   \n",
       "\n",
       "                       source     created_at  \\\n",
       "7                   Instagram  1/21/17 23:59   \n",
       "10            Tendenze Italia  1/21/17 23:59   \n",
       "17   Es Tendencia en Colombia  1/21/17 23:59   \n",
       "19         Twitter for iPhone  1/21/17 23:59   \n",
       "27  Es Tendencia en Argentina  1/21/17 23:59   \n",
       "\n",
       "                                            place  \\\n",
       "7                                     Seattle, WA   \n",
       "10                                    Rome, Lazio   \n",
       "17                      Bogot\\xe1, D.C., Colombia   \n",
       "19                                     Queens, NY   \n",
       "27  Ciudad Aut\\xf3noma de Buenos Aires, Argentina   \n",
       "\n",
       "                                  city           State         country  \n",
       "7                              Seattle              WA             USA  \n",
       "10                                Rome           Lazio           Lazio  \n",
       "17                           Bogot\\xe1  D.C., Colombia  D.C., Colombia  \n",
       "19                              Queens              NY             USA  \n",
       "27  Ciudad Aut\\xf3noma de Buenos Aires       Argentina       Argentina  "
      ]
     },
     "execution_count": 28,
     "metadata": {},
     "output_type": "execute_result"
    }
   ],
   "source": [
    "tweets_df.dropna().head()"
   ]
  },
  {
   "cell_type": "markdown",
   "metadata": {},
   "source": [
    "The dataframe was processed in detail to represent all the US states in an abbreviated form in the column named \"State\" and USA as their country in the column named \"country\". The Non-USA locations are unchanged. This facilitates the analysis by country and states within USA.  "
   ]
  },
  {
   "cell_type": "markdown",
   "metadata": {},
   "source": [
    "### Analysis by Country"
   ]
  },
  {
   "cell_type": "code",
   "execution_count": 29,
   "metadata": {
    "collapsed": false
   },
   "outputs": [
    {
     "data": {
      "text/html": [
       "<div>\n",
       "<table border=\"1\" class=\"dataframe\">\n",
       "  <thead>\n",
       "    <tr style=\"text-align: right;\">\n",
       "      <th></th>\n",
       "      <th>country</th>\n",
       "      <th>count</th>\n",
       "    </tr>\n",
       "  </thead>\n",
       "  <tbody>\n",
       "    <tr>\n",
       "      <th>21</th>\n",
       "      <td>USA</td>\n",
       "      <td>249</td>\n",
       "    </tr>\n",
       "    <tr>\n",
       "      <th>17</th>\n",
       "      <td>Ontario</td>\n",
       "      <td>5</td>\n",
       "    </tr>\n",
       "    <tr>\n",
       "      <th>3</th>\n",
       "      <td>Brasil</td>\n",
       "      <td>4</td>\n",
       "    </tr>\n",
       "    <tr>\n",
       "      <th>4</th>\n",
       "      <td>Brazil</td>\n",
       "      <td>4</td>\n",
       "    </tr>\n",
       "    <tr>\n",
       "      <th>8</th>\n",
       "      <td>Distrito Federal</td>\n",
       "      <td>3</td>\n",
       "    </tr>\n",
       "    <tr>\n",
       "      <th>0</th>\n",
       "      <td>Argentina</td>\n",
       "      <td>2</td>\n",
       "    </tr>\n",
       "    <tr>\n",
       "      <th>27</th>\n",
       "      <td>Wales</td>\n",
       "      <td>2</td>\n",
       "    </tr>\n",
       "    <tr>\n",
       "      <th>10</th>\n",
       "      <td>England</td>\n",
       "      <td>2</td>\n",
       "    </tr>\n",
       "    <tr>\n",
       "      <th>15</th>\n",
       "      <td>London</td>\n",
       "      <td>2</td>\n",
       "    </tr>\n",
       "    <tr>\n",
       "      <th>2</th>\n",
       "      <td>Belgium</td>\n",
       "      <td>2</td>\n",
       "    </tr>\n",
       "    <tr>\n",
       "      <th>5</th>\n",
       "      <td>British Columbia</td>\n",
       "      <td>2</td>\n",
       "    </tr>\n",
       "    <tr>\n",
       "      <th>7</th>\n",
       "      <td>D.C., Colombia</td>\n",
       "      <td>2</td>\n",
       "    </tr>\n",
       "    <tr>\n",
       "      <th>9</th>\n",
       "      <td>Dominican Republic</td>\n",
       "      <td>1</td>\n",
       "    </tr>\n",
       "    <tr>\n",
       "      <th>20</th>\n",
       "      <td>Spain</td>\n",
       "      <td>1</td>\n",
       "    </tr>\n",
       "    <tr>\n",
       "      <th>28</th>\n",
       "      <td>Western Australia</td>\n",
       "      <td>1</td>\n",
       "    </tr>\n",
       "    <tr>\n",
       "      <th>26</th>\n",
       "      <td>Victoria</td>\n",
       "      <td>1</td>\n",
       "    </tr>\n",
       "    <tr>\n",
       "      <th>25</th>\n",
       "      <td>Venezuela</td>\n",
       "      <td>1</td>\n",
       "    </tr>\n",
       "    <tr>\n",
       "      <th>24</th>\n",
       "      <td>Veneto</td>\n",
       "      <td>1</td>\n",
       "    </tr>\n",
       "    <tr>\n",
       "      <th>23</th>\n",
       "      <td>Uruguay</td>\n",
       "      <td>1</td>\n",
       "    </tr>\n",
       "    <tr>\n",
       "      <th>22</th>\n",
       "      <td>United Kingdom</td>\n",
       "      <td>1</td>\n",
       "    </tr>\n",
       "    <tr>\n",
       "      <th>19</th>\n",
       "      <td>South Africa</td>\n",
       "      <td>1</td>\n",
       "    </tr>\n",
       "    <tr>\n",
       "      <th>18</th>\n",
       "      <td>Portugal</td>\n",
       "      <td>1</td>\n",
       "    </tr>\n",
       "    <tr>\n",
       "      <th>6</th>\n",
       "      <td>Chile</td>\n",
       "      <td>1</td>\n",
       "    </tr>\n",
       "    <tr>\n",
       "      <th>16</th>\n",
       "      <td>Nederland</td>\n",
       "      <td>1</td>\n",
       "    </tr>\n",
       "    <tr>\n",
       "      <th>1</th>\n",
       "      <td>Austria</td>\n",
       "      <td>1</td>\n",
       "    </tr>\n",
       "    <tr>\n",
       "      <th>14</th>\n",
       "      <td>Lazio</td>\n",
       "      <td>1</td>\n",
       "    </tr>\n",
       "    <tr>\n",
       "      <th>13</th>\n",
       "      <td>Ireland</td>\n",
       "      <td>1</td>\n",
       "    </tr>\n",
       "    <tr>\n",
       "      <th>12</th>\n",
       "      <td>India</td>\n",
       "      <td>1</td>\n",
       "    </tr>\n",
       "    <tr>\n",
       "      <th>11</th>\n",
       "      <td>Germany</td>\n",
       "      <td>1</td>\n",
       "    </tr>\n",
       "    <tr>\n",
       "      <th>29</th>\n",
       "      <td>attributes={}, id=u</td>\n",
       "      <td>1</td>\n",
       "    </tr>\n",
       "  </tbody>\n",
       "</table>\n",
       "</div>"
      ],
      "text/plain": [
       "                country  count\n",
       "21                  USA    249\n",
       "17              Ontario      5\n",
       "3                Brasil      4\n",
       "4                Brazil      4\n",
       "8      Distrito Federal      3\n",
       "0             Argentina      2\n",
       "27                Wales      2\n",
       "10              England      2\n",
       "15               London      2\n",
       "2               Belgium      2\n",
       "5      British Columbia      2\n",
       "7        D.C., Colombia      2\n",
       "9    Dominican Republic      1\n",
       "20                Spain      1\n",
       "28    Western Australia      1\n",
       "26             Victoria      1\n",
       "25            Venezuela      1\n",
       "24               Veneto      1\n",
       "23              Uruguay      1\n",
       "22       United Kingdom      1\n",
       "19         South Africa      1\n",
       "18             Portugal      1\n",
       "6                 Chile      1\n",
       "16            Nederland      1\n",
       "1               Austria      1\n",
       "14                Lazio      1\n",
       "13              Ireland      1\n",
       "12                India      1\n",
       "11              Germany      1\n",
       "29  attributes={}, id=u      1"
      ]
     },
     "execution_count": 29,
     "metadata": {},
     "output_type": "execute_result"
    }
   ],
   "source": [
    "tweets_df.groupby('country').size().reset_index(name='count').sort_values(['count'], ascending=False)\n",
    "                             "
   ]
  },
  {
   "cell_type": "markdown",
   "metadata": {},
   "source": [
    "\n",
    "The tweets came from 30 different countries. From the known location tweets, it is found that the major tweets came from USA. In Portugese, \"Brazil\" is represented as \"Brasil\". Erroneous value like \"attributes={}, id=u\" is also found in the data. "
   ]
  },
  {
   "cell_type": "markdown",
   "metadata": {},
   "source": [
    "### Analysis by US states"
   ]
  },
  {
   "cell_type": "code",
   "execution_count": 30,
   "metadata": {
    "collapsed": false
   },
   "outputs": [
    {
     "data": {
      "text/html": [
       "<div>\n",
       "<table border=\"1\" class=\"dataframe\">\n",
       "  <thead>\n",
       "    <tr style=\"text-align: right;\">\n",
       "      <th></th>\n",
       "      <th>State</th>\n",
       "      <th>count</th>\n",
       "    </tr>\n",
       "  </thead>\n",
       "  <tbody>\n",
       "    <tr>\n",
       "      <th>4</th>\n",
       "      <td>CA</td>\n",
       "      <td>57</td>\n",
       "    </tr>\n",
       "    <tr>\n",
       "      <th>7</th>\n",
       "      <td>DC</td>\n",
       "      <td>35</td>\n",
       "    </tr>\n",
       "    <tr>\n",
       "      <th>27</th>\n",
       "      <td>NY</td>\n",
       "      <td>24</td>\n",
       "    </tr>\n",
       "    <tr>\n",
       "      <th>35</th>\n",
       "      <td>TX</td>\n",
       "      <td>18</td>\n",
       "    </tr>\n",
       "    <tr>\n",
       "      <th>39</th>\n",
       "      <td>WA</td>\n",
       "      <td>16</td>\n",
       "    </tr>\n",
       "    <tr>\n",
       "      <th>30</th>\n",
       "      <td>OR</td>\n",
       "      <td>14</td>\n",
       "    </tr>\n",
       "    <tr>\n",
       "      <th>9</th>\n",
       "      <td>FL</td>\n",
       "      <td>10</td>\n",
       "    </tr>\n",
       "    <tr>\n",
       "      <th>37</th>\n",
       "      <td>VA</td>\n",
       "      <td>9</td>\n",
       "    </tr>\n",
       "    <tr>\n",
       "      <th>18</th>\n",
       "      <td>MI</td>\n",
       "      <td>6</td>\n",
       "    </tr>\n",
       "    <tr>\n",
       "      <th>10</th>\n",
       "      <td>GA</td>\n",
       "      <td>5</td>\n",
       "    </tr>\n",
       "    <tr>\n",
       "      <th>22</th>\n",
       "      <td>NC</td>\n",
       "      <td>4</td>\n",
       "    </tr>\n",
       "    <tr>\n",
       "      <th>12</th>\n",
       "      <td>IL</td>\n",
       "      <td>4</td>\n",
       "    </tr>\n",
       "    <tr>\n",
       "      <th>31</th>\n",
       "      <td>PA</td>\n",
       "      <td>4</td>\n",
       "    </tr>\n",
       "    <tr>\n",
       "      <th>40</th>\n",
       "      <td>WI</td>\n",
       "      <td>3</td>\n",
       "    </tr>\n",
       "    <tr>\n",
       "      <th>16</th>\n",
       "      <td>MA</td>\n",
       "      <td>3</td>\n",
       "    </tr>\n",
       "    <tr>\n",
       "      <th>28</th>\n",
       "      <td>OH</td>\n",
       "      <td>3</td>\n",
       "    </tr>\n",
       "    <tr>\n",
       "      <th>13</th>\n",
       "      <td>KS</td>\n",
       "      <td>3</td>\n",
       "    </tr>\n",
       "    <tr>\n",
       "      <th>17</th>\n",
       "      <td>MD</td>\n",
       "      <td>2</td>\n",
       "    </tr>\n",
       "    <tr>\n",
       "      <th>29</th>\n",
       "      <td>OK</td>\n",
       "      <td>2</td>\n",
       "    </tr>\n",
       "    <tr>\n",
       "      <th>19</th>\n",
       "      <td>MN</td>\n",
       "      <td>2</td>\n",
       "    </tr>\n",
       "    <tr>\n",
       "      <th>24</th>\n",
       "      <td>NJ</td>\n",
       "      <td>2</td>\n",
       "    </tr>\n",
       "    <tr>\n",
       "      <th>25</th>\n",
       "      <td>NM</td>\n",
       "      <td>2</td>\n",
       "    </tr>\n",
       "    <tr>\n",
       "      <th>26</th>\n",
       "      <td>NV</td>\n",
       "      <td>2</td>\n",
       "    </tr>\n",
       "    <tr>\n",
       "      <th>14</th>\n",
       "      <td>KY</td>\n",
       "      <td>2</td>\n",
       "    </tr>\n",
       "    <tr>\n",
       "      <th>33</th>\n",
       "      <td>SC</td>\n",
       "      <td>1</td>\n",
       "    </tr>\n",
       "    <tr>\n",
       "      <th>32</th>\n",
       "      <td>RI</td>\n",
       "      <td>1</td>\n",
       "    </tr>\n",
       "    <tr>\n",
       "      <th>34</th>\n",
       "      <td>TN</td>\n",
       "      <td>1</td>\n",
       "    </tr>\n",
       "    <tr>\n",
       "      <th>36</th>\n",
       "      <td>UT</td>\n",
       "      <td>1</td>\n",
       "    </tr>\n",
       "    <tr>\n",
       "      <th>38</th>\n",
       "      <td>VT</td>\n",
       "      <td>1</td>\n",
       "    </tr>\n",
       "    <tr>\n",
       "      <th>0</th>\n",
       "      <td>AK</td>\n",
       "      <td>1</td>\n",
       "    </tr>\n",
       "    <tr>\n",
       "      <th>23</th>\n",
       "      <td>NH</td>\n",
       "      <td>1</td>\n",
       "    </tr>\n",
       "    <tr>\n",
       "      <th>21</th>\n",
       "      <td>MT</td>\n",
       "      <td>1</td>\n",
       "    </tr>\n",
       "    <tr>\n",
       "      <th>1</th>\n",
       "      <td>AL</td>\n",
       "      <td>1</td>\n",
       "    </tr>\n",
       "    <tr>\n",
       "      <th>15</th>\n",
       "      <td>LA</td>\n",
       "      <td>1</td>\n",
       "    </tr>\n",
       "    <tr>\n",
       "      <th>11</th>\n",
       "      <td>HI</td>\n",
       "      <td>1</td>\n",
       "    </tr>\n",
       "    <tr>\n",
       "      <th>8</th>\n",
       "      <td>DE</td>\n",
       "      <td>1</td>\n",
       "    </tr>\n",
       "    <tr>\n",
       "      <th>6</th>\n",
       "      <td>CT</td>\n",
       "      <td>1</td>\n",
       "    </tr>\n",
       "    <tr>\n",
       "      <th>5</th>\n",
       "      <td>CO</td>\n",
       "      <td>1</td>\n",
       "    </tr>\n",
       "    <tr>\n",
       "      <th>3</th>\n",
       "      <td>AZ</td>\n",
       "      <td>1</td>\n",
       "    </tr>\n",
       "    <tr>\n",
       "      <th>2</th>\n",
       "      <td>AR</td>\n",
       "      <td>1</td>\n",
       "    </tr>\n",
       "    <tr>\n",
       "      <th>20</th>\n",
       "      <td>MO</td>\n",
       "      <td>1</td>\n",
       "    </tr>\n",
       "  </tbody>\n",
       "</table>\n",
       "</div>"
      ],
      "text/plain": [
       "   State  count\n",
       "4     CA     57\n",
       "7     DC     35\n",
       "27    NY     24\n",
       "35    TX     18\n",
       "39    WA     16\n",
       "30    OR     14\n",
       "9     FL     10\n",
       "37    VA      9\n",
       "18    MI      6\n",
       "10    GA      5\n",
       "22    NC      4\n",
       "12    IL      4\n",
       "31    PA      4\n",
       "40    WI      3\n",
       "16    MA      3\n",
       "28    OH      3\n",
       "13    KS      3\n",
       "17    MD      2\n",
       "29    OK      2\n",
       "19    MN      2\n",
       "24    NJ      2\n",
       "25    NM      2\n",
       "26    NV      2\n",
       "14    KY      2\n",
       "33    SC      1\n",
       "32    RI      1\n",
       "34    TN      1\n",
       "36    UT      1\n",
       "38    VT      1\n",
       "0     AK      1\n",
       "23    NH      1\n",
       "21    MT      1\n",
       "1     AL      1\n",
       "15    LA      1\n",
       "11    HI      1\n",
       "8     DE      1\n",
       "6     CT      1\n",
       "5     CO      1\n",
       "3     AZ      1\n",
       "2     AR      1\n",
       "20    MO      1"
      ]
     },
     "execution_count": 30,
     "metadata": {},
     "output_type": "execute_result"
    }
   ],
   "source": [
    "tweets_df.loc[tweets_df['country'] == 'USA'].groupby('State').size().reset_index(name='count').sort_values(['count'], ascending=False)"
   ]
  },
  {
   "cell_type": "markdown",
   "metadata": {},
   "source": [
    "There were tweets from 41 US states. The state CA(California) has the major tweets, followed by DC(The District of Columbia) and NY(Newyork)."
   ]
  },
  {
   "cell_type": "markdown",
   "metadata": {},
   "source": [
    "### Analysis by Text"
   ]
  },
  {
   "cell_type": "code",
   "execution_count": 31,
   "metadata": {
    "collapsed": false
   },
   "outputs": [
    {
     "data": {
      "text/plain": [
       "0    #WomensMarch Can someone send me a pussy-hat ?...\n",
       "1    _ôëŸo melhor protesto da histí_ria que voce ad...\n",
       "2    I thank God that we have each other! #WomensMa...\n",
       "3                 #WomensMarch https://t.co/otODcBgLUO\n",
       "4      #WomensMarch #imwithher https://t.co/wDspd2eN3p\n",
       "Name: text, dtype: object"
      ]
     },
     "execution_count": 31,
     "metadata": {},
     "output_type": "execute_result"
    }
   ],
   "source": [
    "tweets_df['text']= tweets_df['text'].astype(str)\n",
    "tweets_df['text'].head()"
   ]
  },
  {
   "cell_type": "markdown",
   "metadata": {},
   "source": [
    "There are 3100 tweets in the data. The tweets include hashtags, text messages, links, tags  and emojis or some symbols. The tweets are in different languages. "
   ]
  },
  {
   "cell_type": "code",
   "execution_count": 32,
   "metadata": {
    "collapsed": true
   },
   "outputs": [],
   "source": [
    "hash_list = []\n",
    "def splithash(s):\n",
    "    mylist = [i  for i in s.split() if i.startswith(\"#\") ]\n",
    "    \n",
    "    hash_list.extend(mylist)\n",
    "    return ', '.join(mylist)\n",
    "tweets_df['Hashtags'] =  tweets_df.text.apply(splithash)"
   ]
  },
  {
   "cell_type": "code",
   "execution_count": 33,
   "metadata": {
    "collapsed": true
   },
   "outputs": [],
   "source": [
    "def splitlink(s):\n",
    "    mylink = [i  for i in s.split() if i.startswith(\"http\") ]\n",
    "    \n",
    "    return ', '.join(mylink)\n",
    "tweets_df['Links'] =  tweets_df.text.apply(splitlink)"
   ]
  },
  {
   "cell_type": "code",
   "execution_count": 34,
   "metadata": {
    "collapsed": true
   },
   "outputs": [],
   "source": [
    "Tags = []\n",
    "def splittags(s):\n",
    "    mytags = [i  for i in s.split() if i.startswith(\"@\") ]\n",
    "    Tags.extend(mytags)\n",
    "    return ', '.join(mytags)\n",
    "tweets_df['Tags'] = tweets_df.text.apply(splittags) "
   ]
  },
  {
   "cell_type": "code",
   "execution_count": 35,
   "metadata": {
    "collapsed": false
   },
   "outputs": [
    {
     "data": {
      "text/html": [
       "<div>\n",
       "<table border=\"1\" class=\"dataframe\">\n",
       "  <thead>\n",
       "    <tr style=\"text-align: right;\">\n",
       "      <th></th>\n",
       "      <th>id</th>\n",
       "      <th>text</th>\n",
       "      <th>source</th>\n",
       "      <th>created_at</th>\n",
       "      <th>place</th>\n",
       "      <th>city</th>\n",
       "      <th>State</th>\n",
       "      <th>country</th>\n",
       "      <th>Hashtags</th>\n",
       "      <th>Links</th>\n",
       "      <th>Tags</th>\n",
       "    </tr>\n",
       "  </thead>\n",
       "  <tbody>\n",
       "    <tr>\n",
       "      <th>3049</th>\n",
       "      <td>8.230000e+17</td>\n",
       "      <td>#math + #solidarity = #womensmarch https://t.c...</td>\n",
       "      <td>Twitter for Android</td>\n",
       "      <td>1/21/17 23:56</td>\n",
       "      <td>Manhattan, NY</td>\n",
       "      <td>Manhattan</td>\n",
       "      <td>NY</td>\n",
       "      <td>USA</td>\n",
       "      <td>#math, #solidarity, #womensmarch</td>\n",
       "      <td>https://t.co/XBSItL23t9</td>\n",
       "      <td></td>\n",
       "    </tr>\n",
       "    <tr>\n",
       "      <th>3060</th>\n",
       "      <td>8.230000e+17</td>\n",
       "      <td>I haven't seen the city this energized about s...</td>\n",
       "      <td>Twitter for iPhone</td>\n",
       "      <td>1/21/17 23:56</td>\n",
       "      <td>San Francisco, CA</td>\n",
       "      <td>San Francisco</td>\n",
       "      <td>CA</td>\n",
       "      <td>USA</td>\n",
       "      <td>#WomensMarch, #sf</td>\n",
       "      <td></td>\n",
       "      <td></td>\n",
       "    </tr>\n",
       "    <tr>\n",
       "      <th>3077</th>\n",
       "      <td>8.230000e+17</td>\n",
       "      <td>#nofilter #missingobama #nevertrump #armyoflov...</td>\n",
       "      <td>Instagram</td>\n",
       "      <td>1/21/17 23:56</td>\n",
       "      <td>East Potomac Park, Washington</td>\n",
       "      <td>Washington</td>\n",
       "      <td>WA</td>\n",
       "      <td>USA</td>\n",
       "      <td>#nofilter, #missingobama, #nevertrump, #armyof...</td>\n",
       "      <td>https://t.co/u1QUgmw4W5</td>\n",
       "      <td>@</td>\n",
       "    </tr>\n",
       "    <tr>\n",
       "      <th>3089</th>\n",
       "      <td>8.230000e+17</td>\n",
       "      <td>@BitterSaltiness I actually went to the #Women...</td>\n",
       "      <td>Twitter for iPhone</td>\n",
       "      <td>1/21/17 23:56</td>\n",
       "      <td>Wisconsin, USA</td>\n",
       "      <td>Wisconsin</td>\n",
       "      <td>WI</td>\n",
       "      <td>USA</td>\n",
       "      <td>#WomensMarch</td>\n",
       "      <td>https://t.co/CZFki2lg3R</td>\n",
       "      <td>@BitterSaltiness</td>\n",
       "    </tr>\n",
       "    <tr>\n",
       "      <th>3091</th>\n",
       "      <td>8.230000e+17</td>\n",
       "      <td>Women are such beautiful and wonderful creatur...</td>\n",
       "      <td>Twitter for iPhone</td>\n",
       "      <td>1/21/17 23:56</td>\n",
       "      <td>Kansas, USA</td>\n",
       "      <td>Kansas</td>\n",
       "      <td>KS</td>\n",
       "      <td>USA</td>\n",
       "      <td>#WomensMarch</td>\n",
       "      <td></td>\n",
       "      <td></td>\n",
       "    </tr>\n",
       "  </tbody>\n",
       "</table>\n",
       "</div>"
      ],
      "text/plain": [
       "                id                                               text  \\\n",
       "3049  8.230000e+17  #math + #solidarity = #womensmarch https://t.c...   \n",
       "3060  8.230000e+17  I haven't seen the city this energized about s...   \n",
       "3077  8.230000e+17  #nofilter #missingobama #nevertrump #armyoflov...   \n",
       "3089  8.230000e+17  @BitterSaltiness I actually went to the #Women...   \n",
       "3091  8.230000e+17  Women are such beautiful and wonderful creatur...   \n",
       "\n",
       "                   source     created_at                          place  \\\n",
       "3049  Twitter for Android  1/21/17 23:56                  Manhattan, NY   \n",
       "3060   Twitter for iPhone  1/21/17 23:56              San Francisco, CA   \n",
       "3077            Instagram  1/21/17 23:56  East Potomac Park, Washington   \n",
       "3089   Twitter for iPhone  1/21/17 23:56                 Wisconsin, USA   \n",
       "3091   Twitter for iPhone  1/21/17 23:56                    Kansas, USA   \n",
       "\n",
       "               city State country  \\\n",
       "3049      Manhattan    NY     USA   \n",
       "3060  San Francisco    CA     USA   \n",
       "3077     Washington    WA     USA   \n",
       "3089      Wisconsin    WI     USA   \n",
       "3091         Kansas    KS     USA   \n",
       "\n",
       "                                               Hashtags  \\\n",
       "3049                   #math, #solidarity, #womensmarch   \n",
       "3060                                  #WomensMarch, #sf   \n",
       "3077  #nofilter, #missingobama, #nevertrump, #armyof...   \n",
       "3089                                       #WomensMarch   \n",
       "3091                                       #WomensMarch   \n",
       "\n",
       "                        Links              Tags  \n",
       "3049  https://t.co/XBSItL23t9                    \n",
       "3060                                             \n",
       "3077  https://t.co/u1QUgmw4W5                 @  \n",
       "3089  https://t.co/CZFki2lg3R  @BitterSaltiness  \n",
       "3091                                             "
      ]
     },
     "execution_count": 35,
     "metadata": {},
     "output_type": "execute_result"
    }
   ],
   "source": [
    "tweets_df.dropna().tail()"
   ]
  },
  {
   "cell_type": "markdown",
   "metadata": {},
   "source": [
    "To analyse the tweets, the hashtags, links and tags were separated."
   ]
  },
  {
   "cell_type": "markdown",
   "metadata": {},
   "source": [
    "### Analysis by Tags"
   ]
  },
  {
   "cell_type": "code",
   "execution_count": 36,
   "metadata": {
    "collapsed": false
   },
   "outputs": [
    {
     "data": {
      "text/html": [
       "<div>\n",
       "<table border=\"1\" class=\"dataframe\">\n",
       "  <thead>\n",
       "    <tr style=\"text-align: right;\">\n",
       "      <th></th>\n",
       "      <th>Tags</th>\n",
       "      <th>count</th>\n",
       "    </tr>\n",
       "  </thead>\n",
       "  <tbody>\n",
       "    <tr>\n",
       "      <th>0</th>\n",
       "      <td></td>\n",
       "      <td>2497</td>\n",
       "    </tr>\n",
       "    <tr>\n",
       "      <th>1</th>\n",
       "      <td>@</td>\n",
       "      <td>66</td>\n",
       "    </tr>\n",
       "    <tr>\n",
       "      <th>233</th>\n",
       "      <td>@c0nvey</td>\n",
       "      <td>21</td>\n",
       "    </tr>\n",
       "    <tr>\n",
       "      <th>388</th>\n",
       "      <td>@womensmarch</td>\n",
       "      <td>20</td>\n",
       "    </tr>\n",
       "    <tr>\n",
       "      <th>334</th>\n",
       "      <td>@realDonaldTrump</td>\n",
       "      <td>16</td>\n",
       "    </tr>\n",
       "    <tr>\n",
       "      <th>208</th>\n",
       "      <td>@WhiteHouse, @realDonaldTrump, @POTUS</td>\n",
       "      <td>16</td>\n",
       "    </tr>\n",
       "    <tr>\n",
       "      <th>140</th>\n",
       "      <td>@POTUS</td>\n",
       "      <td>13</td>\n",
       "    </tr>\n",
       "    <tr>\n",
       "      <th>353</th>\n",
       "      <td>@seanspicer</td>\n",
       "      <td>8</td>\n",
       "    </tr>\n",
       "  </tbody>\n",
       "</table>\n",
       "</div>"
      ],
      "text/plain": [
       "                                      Tags  count\n",
       "0                                            2497\n",
       "1                                        @     66\n",
       "233                                @c0nvey     21\n",
       "388                           @womensmarch     20\n",
       "334                       @realDonaldTrump     16\n",
       "208  @WhiteHouse, @realDonaldTrump, @POTUS     16\n",
       "140                                 @POTUS     13\n",
       "353                            @seanspicer      8"
      ]
     },
     "execution_count": 36,
     "metadata": {},
     "output_type": "execute_result"
    }
   ],
   "source": [
    "tweets_df.groupby('Tags').size().reset_index(name='count').sort_values(['count'], ascending=False).head(8)\n"
   ]
  },
  {
   "cell_type": "markdown",
   "metadata": {},
   "source": [
    "Analysis by Tags was carried out to find the most used tags. 399 rows were found. The most tweets doesn't have a tag. some rows have more than one tags. The tags in each row are split and counted separately."
   ]
  },
  {
   "cell_type": "code",
   "execution_count": 37,
   "metadata": {
    "collapsed": true
   },
   "outputs": [],
   "source": [
    "tags_df = pd.DataFrame({'Tags': Tags})"
   ]
  },
  {
   "cell_type": "code",
   "execution_count": 38,
   "metadata": {
    "collapsed": false
   },
   "outputs": [
    {
     "data": {
      "text/html": [
       "<div>\n",
       "<table border=\"1\" class=\"dataframe\">\n",
       "  <thead>\n",
       "    <tr style=\"text-align: right;\">\n",
       "      <th></th>\n",
       "      <th>Tags</th>\n",
       "      <th>count</th>\n",
       "    </tr>\n",
       "  </thead>\n",
       "  <tbody>\n",
       "    <tr>\n",
       "      <th>0</th>\n",
       "      <td>@</td>\n",
       "      <td>74</td>\n",
       "    </tr>\n",
       "    <tr>\n",
       "      <th>470</th>\n",
       "      <td>@realDonaldTrump</td>\n",
       "      <td>48</td>\n",
       "    </tr>\n",
       "    <tr>\n",
       "      <th>192</th>\n",
       "      <td>@POTUS</td>\n",
       "      <td>40</td>\n",
       "    </tr>\n",
       "    <tr>\n",
       "      <th>525</th>\n",
       "      <td>@womensmarch</td>\n",
       "      <td>30</td>\n",
       "    </tr>\n",
       "    <tr>\n",
       "      <th>324</th>\n",
       "      <td>@c0nvey</td>\n",
       "      <td>23</td>\n",
       "    </tr>\n",
       "    <tr>\n",
       "      <th>489</th>\n",
       "      <td>@seanspicer</td>\n",
       "      <td>19</td>\n",
       "    </tr>\n",
       "    <tr>\n",
       "      <th>283</th>\n",
       "      <td>@WhiteHouse</td>\n",
       "      <td>17</td>\n",
       "    </tr>\n",
       "  </tbody>\n",
       "</table>\n",
       "</div>"
      ],
      "text/plain": [
       "                 Tags  count\n",
       "0                   @     74\n",
       "470  @realDonaldTrump     48\n",
       "192            @POTUS     40\n",
       "525      @womensmarch     30\n",
       "324           @c0nvey     23\n",
       "489       @seanspicer     19\n",
       "283       @WhiteHouse     17"
      ]
     },
     "execution_count": 38,
     "metadata": {},
     "output_type": "execute_result"
    }
   ],
   "source": [
    "tags_df.groupby('Tags').size().reset_index(name='count').sort_values(['count'], ascending=False).head(7)"
   ]
  },
  {
   "cell_type": "markdown",
   "metadata": {},
   "source": [
    "There were 532 different tags found. Top 7 tags were shown here."
   ]
  },
  {
   "cell_type": "markdown",
   "metadata": {},
   "source": [
    "### Analysis by Links"
   ]
  },
  {
   "cell_type": "code",
   "execution_count": 39,
   "metadata": {
    "collapsed": false
   },
   "outputs": [
    {
     "data": {
      "text/html": [
       "<div>\n",
       "<table border=\"1\" class=\"dataframe\">\n",
       "  <thead>\n",
       "    <tr style=\"text-align: right;\">\n",
       "      <th></th>\n",
       "      <th>Links</th>\n",
       "      <th>count</th>\n",
       "    </tr>\n",
       "  </thead>\n",
       "  <tbody>\n",
       "    <tr>\n",
       "      <th>0</th>\n",
       "      <td></td>\n",
       "      <td>1295</td>\n",
       "    </tr>\n",
       "    <tr>\n",
       "      <th>285</th>\n",
       "      <td>https://t.co/9By5oAmkSG</td>\n",
       "      <td>2</td>\n",
       "    </tr>\n",
       "    <tr>\n",
       "      <th>982</th>\n",
       "      <td>https://t.co/XHAB8WVt5m</td>\n",
       "      <td>2</td>\n",
       "    </tr>\n",
       "    <tr>\n",
       "      <th>1533</th>\n",
       "      <td>https://t.co/qwszhpfZq6</td>\n",
       "      <td>2</td>\n",
       "    </tr>\n",
       "    <tr>\n",
       "      <th>1431</th>\n",
       "      <td>https://t.co/nPBII0RuXE</td>\n",
       "      <td>2</td>\n",
       "    </tr>\n",
       "    <tr>\n",
       "      <th>851</th>\n",
       "      <td>https://t.co/SqJPYKAlDP</td>\n",
       "      <td>2</td>\n",
       "    </tr>\n",
       "    <tr>\n",
       "      <th>918</th>\n",
       "      <td>https://t.co/VE5bib4Zzv</td>\n",
       "      <td>2</td>\n",
       "    </tr>\n",
       "  </tbody>\n",
       "</table>\n",
       "</div>"
      ],
      "text/plain": [
       "                        Links  count\n",
       "0                               1295\n",
       "285   https://t.co/9By5oAmkSG      2\n",
       "982   https://t.co/XHAB8WVt5m      2\n",
       "1533  https://t.co/qwszhpfZq6      2\n",
       "1431  https://t.co/nPBII0RuXE      2\n",
       "851   https://t.co/SqJPYKAlDP      2\n",
       "918   https://t.co/VE5bib4Zzv      2"
      ]
     },
     "execution_count": 39,
     "metadata": {},
     "output_type": "execute_result"
    }
   ],
   "source": [
    "tweets_df.groupby('Links').size().reset_index(name='count').sort_values(['count'], ascending=False).head(7)"
   ]
  },
  {
   "cell_type": "markdown",
   "metadata": {},
   "source": [
    "Analysis by links was carried out to find the most tweeted links. 1789 rows were found. 1295 tweets did not include any links. "
   ]
  },
  {
   "cell_type": "markdown",
   "metadata": {},
   "source": [
    "### Analysis by hashtags"
   ]
  },
  {
   "cell_type": "code",
   "execution_count": 40,
   "metadata": {
    "collapsed": false
   },
   "outputs": [],
   "source": [
    "hash_df = pd.DataFrame({'Hashtags_raw': hash_list})"
   ]
  },
  {
   "cell_type": "code",
   "execution_count": 41,
   "metadata": {
    "collapsed": false
   },
   "outputs": [
    {
     "data": {
      "text/html": [
       "<div>\n",
       "<table border=\"1\" class=\"dataframe\">\n",
       "  <thead>\n",
       "    <tr style=\"text-align: right;\">\n",
       "      <th></th>\n",
       "      <th>Hashtags_raw</th>\n",
       "      <th>count</th>\n",
       "    </tr>\n",
       "  </thead>\n",
       "  <tbody>\n",
       "    <tr>\n",
       "      <th>507</th>\n",
       "      <td>#WomensMarch</td>\n",
       "      <td>2053</td>\n",
       "    </tr>\n",
       "    <tr>\n",
       "      <th>1107</th>\n",
       "      <td>#womensmarch</td>\n",
       "      <td>708</td>\n",
       "    </tr>\n",
       "    <tr>\n",
       "      <th>538</th>\n",
       "      <td>#WomensMarchOnWashington</td>\n",
       "      <td>65</td>\n",
       "    </tr>\n",
       "    <tr>\n",
       "      <th>515</th>\n",
       "      <td>#WomensMarch.</td>\n",
       "      <td>25</td>\n",
       "    </tr>\n",
       "    <tr>\n",
       "      <th>191</th>\n",
       "      <td>#Inauguration</td>\n",
       "      <td>20</td>\n",
       "    </tr>\n",
       "  </tbody>\n",
       "</table>\n",
       "</div>"
      ],
      "text/plain": [
       "                  Hashtags_raw  count\n",
       "507               #WomensMarch   2053\n",
       "1107              #womensmarch    708\n",
       "538   #WomensMarchOnWashington     65\n",
       "515              #WomensMarch.     25\n",
       "191              #Inauguration     20"
      ]
     },
     "execution_count": 41,
     "metadata": {},
     "output_type": "execute_result"
    }
   ],
   "source": [
    "hash_df.groupby('Hashtags_raw').size().reset_index(name='count').sort_values(['count'], ascending=False).head()\n"
   ]
  },
  {
   "cell_type": "markdown",
   "metadata": {
    "collapsed": false
   },
   "source": [
    "There were 1201 hashtags found. The hashtag #WomensMarch was the most used one. some hashtags like #WomensMarch and #WomensMarch. differs only by the punctuation marks. When the punctuation marks were removed, the number of hashtags gets reduced and the count increases. "
   ]
  },
  {
   "cell_type": "code",
   "execution_count": 42,
   "metadata": {
    "collapsed": false
   },
   "outputs": [],
   "source": [
    "\n",
    "def remove_p(s):\n",
    "    exclude = set(string.punctuation)\n",
    "    s = ''.join(ch for ch in s if ch not in exclude)\n",
    "    return \"#\"+s"
   ]
  },
  {
   "cell_type": "code",
   "execution_count": 43,
   "metadata": {
    "collapsed": false
   },
   "outputs": [],
   "source": [
    "hash_df['Hashtags_punc_removed'] =  hash_df.Hashtags_raw.apply(remove_p) "
   ]
  },
  {
   "cell_type": "code",
   "execution_count": 44,
   "metadata": {
    "collapsed": false
   },
   "outputs": [
    {
     "data": {
      "text/html": [
       "<div>\n",
       "<table border=\"1\" class=\"dataframe\">\n",
       "  <thead>\n",
       "    <tr style=\"text-align: right;\">\n",
       "      <th></th>\n",
       "      <th>Hashtags_punc_removed</th>\n",
       "      <th>count</th>\n",
       "    </tr>\n",
       "  </thead>\n",
       "  <tbody>\n",
       "    <tr>\n",
       "      <th>492</th>\n",
       "      <td>#WomensMarch</td>\n",
       "      <td>2114</td>\n",
       "    </tr>\n",
       "    <tr>\n",
       "      <th>1074</th>\n",
       "      <td>#womensmarch</td>\n",
       "      <td>723</td>\n",
       "    </tr>\n",
       "    <tr>\n",
       "      <th>509</th>\n",
       "      <td>#WomensMarchOnWashington</td>\n",
       "      <td>65</td>\n",
       "    </tr>\n",
       "    <tr>\n",
       "      <th>189</th>\n",
       "      <td>#Inauguration</td>\n",
       "      <td>21</td>\n",
       "    </tr>\n",
       "    <tr>\n",
       "      <th>420</th>\n",
       "      <td>#Trump</td>\n",
       "      <td>19</td>\n",
       "    </tr>\n",
       "    <tr>\n",
       "      <th>538</th>\n",
       "      <td>#Womensmarch</td>\n",
       "      <td>18</td>\n",
       "    </tr>\n",
       "    <tr>\n",
       "      <th>1114</th>\n",
       "      <td>#womensmarchonwashington</td>\n",
       "      <td>18</td>\n",
       "    </tr>\n",
       "    <tr>\n",
       "      <th>1130</th>\n",
       "      <td>#womensmarchäó</td>\n",
       "      <td>17</td>\n",
       "    </tr>\n",
       "    <tr>\n",
       "      <th>229</th>\n",
       "      <td>#LoveTrumpsHate</td>\n",
       "      <td>16</td>\n",
       "    </tr>\n",
       "    <tr>\n",
       "      <th>1138</th>\n",
       "      <td>#womensrightsarehumanrights</td>\n",
       "      <td>15</td>\n",
       "    </tr>\n",
       "    <tr>\n",
       "      <th>477</th>\n",
       "      <td>#WhyIMarch</td>\n",
       "      <td>15</td>\n",
       "    </tr>\n",
       "    <tr>\n",
       "      <th>1052</th>\n",
       "      <td>#whyimarch</td>\n",
       "      <td>14</td>\n",
       "    </tr>\n",
       "    <tr>\n",
       "      <th>489</th>\n",
       "      <td>#WomenWhoHaveInspiredMe</td>\n",
       "      <td>14</td>\n",
       "    </tr>\n",
       "    <tr>\n",
       "      <th>527</th>\n",
       "      <td>#WomensMarchäó</td>\n",
       "      <td>14</td>\n",
       "    </tr>\n",
       "    <tr>\n",
       "      <th>915</th>\n",
       "      <td>#resist</td>\n",
       "      <td>14</td>\n",
       "    </tr>\n",
       "  </tbody>\n",
       "</table>\n",
       "</div>"
      ],
      "text/plain": [
       "            Hashtags_punc_removed  count\n",
       "492                  #WomensMarch   2114\n",
       "1074                 #womensmarch    723\n",
       "509      #WomensMarchOnWashington     65\n",
       "189                 #Inauguration     21\n",
       "420                        #Trump     19\n",
       "538                  #Womensmarch     18\n",
       "1114     #womensmarchonwashington     18\n",
       "1130               #womensmarchäó     17\n",
       "229               #LoveTrumpsHate     16\n",
       "1138  #womensrightsarehumanrights     15\n",
       "477                    #WhyIMarch     15\n",
       "1052                   #whyimarch     14\n",
       "489       #WomenWhoHaveInspiredMe     14\n",
       "527                #WomensMarchäó     14\n",
       "915                       #resist     14"
      ]
     },
     "execution_count": 44,
     "metadata": {},
     "output_type": "execute_result"
    }
   ],
   "source": [
    "hash_df.groupby('Hashtags_punc_removed').size().reset_index(name='count').sort_values(['count'], ascending=False).head(15)"
   ]
  },
  {
   "cell_type": "markdown",
   "metadata": {},
   "source": [
    "When the punctuation was removed, the number of hashtags reduced to 1160 and the count increases in some of the hashtags.\n",
    "'Womensmarch', 'WomensMarch', 'womensMarch', 'womensmarch' and 'WOMENSMARCH' all refer to the same word if it is not case sensitive."
   ]
  },
  {
   "cell_type": "code",
   "execution_count": 45,
   "metadata": {
    "collapsed": false
   },
   "outputs": [],
   "source": [
    "hash_df['Hashtags_lower']= hash_df['Hashtags_punc_removed'].str.lower()"
   ]
  },
  {
   "cell_type": "code",
   "execution_count": 46,
   "metadata": {
    "collapsed": false
   },
   "outputs": [
    {
     "data": {
      "text/html": [
       "<div>\n",
       "<table border=\"1\" class=\"dataframe\">\n",
       "  <thead>\n",
       "    <tr style=\"text-align: right;\">\n",
       "      <th></th>\n",
       "      <th>Hashtags_lower</th>\n",
       "      <th>count</th>\n",
       "    </tr>\n",
       "  </thead>\n",
       "  <tbody>\n",
       "    <tr>\n",
       "      <th>918</th>\n",
       "      <td>#womensmarch</td>\n",
       "      <td>2875</td>\n",
       "    </tr>\n",
       "    <tr>\n",
       "      <th>966</th>\n",
       "      <td>#womensmarchonwashington</td>\n",
       "      <td>83</td>\n",
       "    </tr>\n",
       "    <tr>\n",
       "      <th>886</th>\n",
       "      <td>#whyimarch</td>\n",
       "      <td>42</td>\n",
       "    </tr>\n",
       "    <tr>\n",
       "      <th>990</th>\n",
       "      <td>#womensmarchäó</td>\n",
       "      <td>31</td>\n",
       "    </tr>\n",
       "    <tr>\n",
       "      <th>805</th>\n",
       "      <td>#trump</td>\n",
       "      <td>26</td>\n",
       "    </tr>\n",
       "    <tr>\n",
       "      <th>347</th>\n",
       "      <td>#inauguration</td>\n",
       "      <td>24</td>\n",
       "    </tr>\n",
       "    <tr>\n",
       "      <th>641</th>\n",
       "      <td>#resist</td>\n",
       "      <td>22</td>\n",
       "    </tr>\n",
       "    <tr>\n",
       "      <th>944</th>\n",
       "      <td>#womensmarchla</td>\n",
       "      <td>22</td>\n",
       "    </tr>\n",
       "    <tr>\n",
       "      <th>1003</th>\n",
       "      <td>#womensrights</td>\n",
       "      <td>20</td>\n",
       "    </tr>\n",
       "    <tr>\n",
       "      <th>432</th>\n",
       "      <td>#lovetrumpshate</td>\n",
       "      <td>19</td>\n",
       "    </tr>\n",
       "  </tbody>\n",
       "</table>\n",
       "</div>"
      ],
      "text/plain": [
       "                Hashtags_lower  count\n",
       "918               #womensmarch   2875\n",
       "966   #womensmarchonwashington     83\n",
       "886                 #whyimarch     42\n",
       "990             #womensmarchäó     31\n",
       "805                     #trump     26\n",
       "347              #inauguration     24\n",
       "641                    #resist     22\n",
       "944             #womensmarchla     22\n",
       "1003             #womensrights     20\n",
       "432            #lovetrumpshate     19"
      ]
     },
     "execution_count": 46,
     "metadata": {},
     "output_type": "execute_result"
    }
   ],
   "source": [
    "hash_df.groupby('Hashtags_lower').size().reset_index(name='count').sort_values(['count'], ascending=False).head(10)"
   ]
  },
  {
   "cell_type": "markdown",
   "metadata": {},
   "source": [
    "The hashtags are converted to lower case and then they are grouped together. Now the number of hastags reduced to 1039. But the count has increased. "
   ]
  },
  {
   "cell_type": "markdown",
   "metadata": {},
   "source": [
    "### Analysis by country and hashtags"
   ]
  },
  {
   "cell_type": "code",
   "execution_count": 47,
   "metadata": {
    "collapsed": false
   },
   "outputs": [
    {
     "data": {
      "text/plain": [
       "country              Hashtags                                                                                     \n",
       "Argentina            #WomensMarch                                                                                     1\n",
       "                     #WomensMarch, #LaliEnPinamar                                                                     1\n",
       "Austria              #WomensMarch, #Icantkeepquiet                                                                    1\n",
       "Belgium              #WomensMarch                                                                                     1\n",
       "                     #womensmarch                                                                                     1\n",
       "Brasil               #WomensMarch                                                                                     3\n",
       "                     #Womensmarch                                                                                     1\n",
       "Brazil               #WomensMarch                                                                                     2\n",
       "                     #WomensMarch, #fcseguindofcs, #cocodegatomelhorquekpop, #trndnl                                  1\n",
       "                     #womensmarch                                                                                     1\n",
       "British Columbia     #WomensMarch                                                                                     1\n",
       "                     #womensmarchonwashington, #yyjwomensmarch, #womensmarch, #womensmarch2017, #yyj, #yyjwomen       1\n",
       "Chile                #WomensMarch, #ColoColoJuegaEnEl13, #bomberosdechile, #MisterPiernas2017, #FrenteAmplio          1\n",
       "D.C., Colombia       #WomensMarch, #SUPERLIGAAGUILAxWIN, #trndnl                                                      1\n",
       "                     #womensmarch, #ungovernable, #antifascist                                                        1\n",
       "Distrito Federal     #WomensMarch, #ElDineroSeInventí_Para, #YaEsFinDeSemanaPara, #GayGames2018                       1\n",
       "                     #americaferrera, #womensmarch                                                                    1\n",
       "                     #womensmarch, #ciudaddemí©xico                                                                   1\n",
       "Dominican Republic   #WomensMarch, #LuceroEnRD2017, #trndnl                                                           1\n",
       "England              #TrumpleThinSkin, #womensmarch                                                                   1\n",
       "                     #womensmarch, #womensrightsarehumanrights                                                        1\n",
       "Germany              #WomensMarch, #TrashTVTalk, #sportstudio, #trndnl                                                1\n",
       "India                #WomensMarch, #RaeesInDubai, #AAP_ö_æö_„_ö__ö«š, #NewSurpriseHKNKJ, #ThinkBIGSundayWithMarsha    1\n",
       "Ireland              #WomensMarch, #WomensMarch                                                                       1\n",
       "Lazio                #cepostaperte, #MilanNapoli, #WomensMarch, #Cavallidibattaglia, #SonoInnocente, #trndnl          1\n",
       "London               #WomensMarch                                                                                     1\n",
       "                     #womensmarch                                                                                     1\n",
       "Nederland            #WomensMarch                                                                                     1\n",
       "Ontario              #WomensMarch                                                                                     2\n",
       "                     #WomensMarchäó_                                                                                  1\n",
       "                                                                                                                     ..\n",
       "USA                  #womensmarch, #womensmarchgreenville, #greenvillesc                                              1\n",
       "                     #womensmarch, #womensmarchla                                                                     1\n",
       "                     #womensmarch, #womensmarchla, #womensmarchlosangeles, #whyimarch, #wmla                          1\n",
       "                     #womensmarch, #womensmarchmiami                                                                  1\n",
       "                     #womensmarch, #womensmarchnyc                                                                    1\n",
       "                     #womensmarch, #womensmarchoakland, #whyimarch, #imarchforäó_                                     1\n",
       "                     #womensmarch, #womensmarchonnyc, #whyimarch                                                      1\n",
       "                     #womensmarch, #womensmarchonphiladelphia, #nastywoman, #philly, #feminist, #beyoncí©             1\n",
       "                     #womensmarch, #womensmarchonwashington, #antitrump, #riseandresist, #rar                         1\n",
       "                     #womensmarch, #womensmarchonwashington, #inaugurationäó_                                         1\n",
       "                     #womensmarch, #womensmarchonwashington, #womensmarch2017, #snl                                   1\n",
       "                     #womensmarch, #womensmarchpdx                                                                    1\n",
       "                     #womensmarch, #womensmarchsanjose                                                                1\n",
       "                     #womensmarch, #womxnsmarchseattleäó_                                                             1\n",
       "                     #womensmarch2017, #womensmarch                                                                   1\n",
       "                     #womensmarchnyc, #mypussymychoice, #equalityäó_                                                  1\n",
       "                     #womensmarchonwashington, #womensmarch, #pussypower                                              1\n",
       "                     #womensmarchparkcity, #womensmarch, #sundancefilmfestival                                        1\n",
       "                     #womensmarchseattle                                                                              1\n",
       "                     #womensmarchäó_                                                                                  2\n",
       "                     #womensmarchŒæ                                                                                   1\n",
       "                     #womensrights, #womensmarch, #womensmarchchicago, #feminist, #freedom, #choiceäó_                1\n",
       "United Kingdom       #WomensMarch                                                                                     1\n",
       "Uruguay              #WomensMarch, #WashingtonDC                                                                      1\n",
       "Veneto               #womensmarch, #heforshe                                                                          1\n",
       "Venezuela            #CarnetDeLaMiseria, #WomensMarch, #SacateTuCarnet, #GanaSeguidoresVenezuela, #OrquideaSSS        1\n",
       "Victoria             #Islam, #WomensMarch                                                                             1\n",
       "Wales                #WomensMarch                                                                                     2\n",
       "Western Australia                                                                                                     1\n",
       "attributes={}, id=u  #WomensMarch, #WomensMarchTO, #whoruntheworldGIRLS                                               1\n",
       "dtype: int64"
      ]
     },
     "execution_count": 47,
     "metadata": {},
     "output_type": "execute_result"
    }
   ],
   "source": [
    "tweets_df.groupby(['country','Hashtags']).size()"
   ]
  },
  {
   "cell_type": "markdown",
   "metadata": {},
   "source": [
    "The hashtag #WomensMarch, was widely used across various countries. USA has most hashtags."
   ]
  },
  {
   "cell_type": "markdown",
   "metadata": {},
   "source": [
    "### Analysis by US state and hashtags"
   ]
  },
  {
   "cell_type": "code",
   "execution_count": 48,
   "metadata": {
    "collapsed": false
   },
   "outputs": [
    {
     "data": {
      "text/plain": [
       "State  Hashtags                                                                                      \n",
       "AK     #WhyIMarch, #WomensMarch                                                                           1\n",
       "AL     #WomensMarch                                                                                       1\n",
       "AR     #womensmarch, #womensmarcharkansas, #bettertogether                                                1\n",
       "AZ     #WomensMarch                                                                                       1\n",
       "CA                                                                                                        4\n",
       "       #Calexit, #WomensMarch                                                                             1\n",
       "       #InTheNameOfLove!, #equality, #WomensMarch, #LoveTrumpsHate, #humanrights                          1\n",
       "       #WomansMarchSanDiego, #resist, #WomensMarch, #sandiego, #demonstration, #equalityäó_               1\n",
       "       #WomensMarch                                                                                      15\n",
       "       #WomensMarch, #CatchyAF                                                                            1\n",
       "       #WomensMarch, #IniteNational, #TheFutureisFemale, #TheFutureIsNow                                  1\n",
       "       #WomensMarch, #Oakland, #resist                                                                    1\n",
       "       #WomensMarch, #OaklandWomensMarch                                                                  1\n",
       "       #WomensMarch, #WomenWhoHaveInspiredMe, #Madonna                                                    1\n",
       "       #WomensMarch, #WomensMarchLA                                                                       1\n",
       "       #WomensMarch, #WomensRights                                                                        2\n",
       "       #WomensMarch, #WomensRightsAreHumanRights                                                          1\n",
       "       #WomensMarch, #firedupreadytogo_ôî«                                                                1\n",
       "       #WomensMarch, #girlpower                                                                           1\n",
       "       #WomensMarch, #mylifematters                                                                       1\n",
       "       #WomensMarch, #photo                                                                               1\n",
       "       #WomensMarch, #sf                                                                                  1\n",
       "       #WomensMarch, #vivalamujer                                                                         1\n",
       "       #WomensMarch, #welldone                                                                            1\n",
       "       #WomensMarch, #whyimarch, #nastywoman, #lovenothate, #democracy                                    1\n",
       "       #WomensMarchLA, #WomensMarch, #PershingSquare.                                                     1\n",
       "       #aclu, #womensmarch                                                                                1\n",
       "       #dtla, #trump, #womensmarch                                                                        1\n",
       "       #teamRabinovitz, #sacramento, #womensmarch                                                         1\n",
       "       #voice, #Dtla                                                                                      1\n",
       "                                                                                                         ..\n",
       "TX     #WomensMarch, #StandUpFightBack                                                                    1\n",
       "       #WomensMarch, #marchonaustin                                                                       2\n",
       "       #WomensMarch, #marchonaustin, #austin                                                              1\n",
       "       #WomensMarch.                                                                                      1\n",
       "       #WomensMarchOnWashington, #WomensMarch                                                             1\n",
       "       #WomensMarchonATX, #WomensMarch                                                                    1\n",
       "       #womensmarch                                                                                       2\n",
       "       #womensmarch, #ATX                                                                                 1\n",
       "       #womensmarch, #austin, #womensmarchonaustin, #smashthepatriarchy                                   1\n",
       "       #womensmarch, #elpaso, #boundlessacrossborders, #streetphotography, #borderlands, #americanäó_     1\n",
       "UT     #womensmarchparkcity, #womensmarch, #sundancefilmfestival                                          1\n",
       "VA     #EthicsMatter, #truth, #WomensMarchOnWashington, #WomensMarch                                      1\n",
       "       #WhyWeMarch                                                                                        1\n",
       "       #WomensMarch                                                                                       2\n",
       "       #WomensMarchOnWashington, #womensmarch                                                             1\n",
       "       #womensmarch                                                                                       3\n",
       "       #womensmarch, #roanokevirginia                                                                     1\n",
       "VT     #WomensMarch                                                                                       1\n",
       "WA     #ImpeachTrump, #WomensMarch                                                                        1\n",
       "       #WomensMarch                                                                                       6\n",
       "       #WomensMarch, #Seattle                                                                             1\n",
       "       #WomensMarch, #wearenasty, #standupforyourrights                                                   1\n",
       "       #WomensMarch, #womxnsmarchseattle                                                                  1\n",
       "       #nofilter, #missingobama, #nevertrump, #armyoflove, #womensmarch, #womensmarchonwashington         1\n",
       "       #thefutureisfemale, #womensmarch, #seattleäó_                                                      1\n",
       "       #womensmarch                                                                                       2\n",
       "       #womensmarch, #womxnsmarchseattleäó_                                                               1\n",
       "       #womensmarchseattle                                                                                1\n",
       "WI     #WomensMarch                                                                                       2\n",
       "       #womensmarchŒæ                                                                                     1\n",
       "dtype: int64"
      ]
     },
     "execution_count": 48,
     "metadata": {},
     "output_type": "execute_result"
    }
   ],
   "source": [
    "tweets_df.loc[tweets_df['country'] == 'USA'].groupby(['State','Hashtags']).size()"
   ]
  },
  {
   "cell_type": "markdown",
   "metadata": {},
   "source": [
    "California has the most hashtags within USA. The hashtag #WomensMarch was the most used one."
   ]
  },
  {
   "cell_type": "markdown",
   "metadata": {},
   "source": [
    "### Conclusion"
   ]
  },
  {
   "cell_type": "markdown",
   "metadata": {},
   "source": [
    "The Women's March tweets data has 3100 entries with 5 columns. There are no missing values in 4 columns whereas the column named \"place\" has 308 known values(or 2792 missing values).\n",
    "\n",
    "All the entries have the same id. Also, the id looks unusual.\n",
    "51 different sources were used to post the tweets. Most people used \"Twitter for iphone\" as their source, followed by \"Twitter for Android\" and \"Twitter webclient\". \n",
    "\n",
    "The tweets were created in different countries having different timezones and in different languages. Surprisingly, all the tweets were created between the time 23:56 and 23:59 on January 21, 2017.\n",
    "\n",
    "The Women's March happened in various countries. The tweets include both abbreviated and full name of the US states. \n",
    "\n",
    "The column named \"place\" holds the location from where the tweets are published. It has 308 known values(or 2792 missing values). The analysis was carried out with the known values.It was split into \"city\" and \"State\" to facilitate the analysis. \n",
    "\n",
    "The dataframe was processed in detail to represent all the US states in an abbreviated form in the column named \"State\" and USA as their country in the column named \"country\". The Non-USA locations are unchanged. \n",
    "\n",
    "The tweets came from 30 different countries. From the known location tweets, it is found that the major tweets came from USA. \n",
    "\n",
    "There were tweets from 41 US states. The state CA(California) has the major tweets, followed by DC(The District of Columbia) and NY(Newyork).\n",
    "There were 3100 tweets in the data. The tweets include hashtags, text messages, links, tags and emojis or some symbols. The tweets were in different languages.\n",
    "\n",
    "Analysis by Tags was carried out to find the most used tags. 399 rows were found. The most tweets doesn't have a tag. Some rows have more than one tags. The tags in each row are split and counted separately. There were 532 different tags found.\n",
    "\n",
    "Analysis by links was carried out to find the most tweeted links. 1789 rows were found. 1295 tweets did not include any links.\n",
    "There were 1201 hashtags found. The hashtag #WomensMarch was the most used one.\n",
    "\n",
    "The hashtag #WomensMarch, was widely used across various countries. \n",
    "USA has the most hashtags. California has the most hashtags within USA. "
   ]
  }
 ],
 "metadata": {
  "anaconda-cloud": {},
  "kernelspec": {
   "display_name": "Python [conda root]",
   "language": "python",
   "name": "conda-root-py"
  },
  "language_info": {
   "codemirror_mode": {
    "name": "ipython",
    "version": 3
   },
   "file_extension": ".py",
   "mimetype": "text/x-python",
   "name": "python",
   "nbconvert_exporter": "python",
   "pygments_lexer": "ipython3",
   "version": "3.5.2"
  }
 },
 "nbformat": 4,
 "nbformat_minor": 0
}
